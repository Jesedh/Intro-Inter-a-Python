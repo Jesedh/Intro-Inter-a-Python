{
 "cells": [
  {
   "cell_type": "markdown",
   "metadata": {},
   "source": [
    "# Vectores\n",
    "    Los vectores, listas o arreglos unidimencionales son un tipo de dato especial, es una variable que nos permite guardar muchos datos.\n",
    "    Las listas, son una estructura de datos de vital importancia.\n",
    "    Las listas en Python son utilizadas para almacenar múltiples valores en una única variable. \n",
    "    \n",
    "* Puedes agregar elementos mixtos, es decir, cualquier tipo de dato (texto, booleanos, números, etc.).\n",
    "* Comenzamos con la **posicion 0**.\n",
    "\n",
    "Hay 3 tipos de arrays o arreglos\n",
    "1. **Array unidimencional**\n",
    "2. **Array bidimencional**\n",
    "3. **Array multidimencional (Array tridimencinal, etc.)**\n",
    "\n",
    "<img src=http://www.buscaminegocio.com/img/tipos-de-arreglo-php.png width=\"30%\">"
   ]
  },
  {
   "cell_type": "markdown",
   "metadata": {},
   "source": [
    "## 1. Array unidimencional\n",
    "\n",
    "<img src=https://media.geeksforgeeks.org/wp-content/uploads/CommonArticleDesign1-min.png width=\"40%\">\n",
    "\n",
    "**Para declarar una lista**\n"
   ]
  },
  {
   "cell_type": "code",
   "execution_count": 12,
   "metadata": {},
   "outputs": [
    {
     "name": "stdout",
     "output_type": "stream",
     "text": [
      "[1, 2, True, 'Hola', 5.8]\n"
     ]
    }
   ],
   "source": [
    "lista_con_elementos = [1, 2, True, 'Hola', 5.8]\n",
    "\n",
    "otra_lista_con_elementos = list([4, 9, False, 'texto'])\n",
    "\n",
    "print(lista_con_elementos)"
   ]
  },
  {
   "cell_type": "markdown",
   "metadata": {},
   "source": [
    "**Obtener el valor de un elemento de una lista en Python**"
   ]
  },
  {
   "cell_type": "code",
   "execution_count": 4,
   "metadata": {},
   "outputs": [
    {
     "name": "stdout",
     "output_type": "stream",
     "text": [
      "Juan\n",
      "Susana\n",
      "Pedro\n",
      "Laura\n",
      "Carmen\n"
     ]
    }
   ],
   "source": [
    "mi_lista = ['Juan', 'Pedro', 'Laura', 'Carmen', 'Susana']\n",
    "print(mi_lista[0]) # Muestra Juan (la primera posición es la 0)\n",
    "print(mi_lista[-1]) # Muestra Susana\n",
    "print(mi_lista[1]) # Muestra Pedro\n",
    "print(mi_lista[2]) # Muestra Laura\n",
    "print(mi_lista[-2]) # Muestra Carmen"
   ]
  },
  {
   "cell_type": "markdown",
   "metadata": {},
   "source": [
    "**Recorrer una lista en Python**"
   ]
  },
  {
   "cell_type": "code",
   "execution_count": 8,
   "metadata": {},
   "outputs": [
    {
     "name": "stdout",
     "output_type": "stream",
     "text": [
      "20\n",
      "41\n",
      "6\n",
      "18\n",
      "23\n",
      "\n",
      "\n",
      "20\n",
      "41\n",
      "6\n",
      "18\n",
      "23\n",
      "\n",
      "\n",
      "20\n",
      "41\n",
      "6\n",
      "18\n",
      "23\n"
     ]
    }
   ],
   "source": [
    "edades = [20, 41, 6, 18, 23]\n",
    "\n",
    "# Recorriendo los elementos\n",
    "for edad in edades:\n",
    "    print(edad)\n",
    "print(\"\\n\")\n",
    "\n",
    "# Recorriendo los índices\n",
    "for i in range(len(edades)):\n",
    "    print(edades[i])\n",
    "\n",
    "# Con while y los índices\n",
    "indice = 0\n",
    "print(\"\\n\")\n",
    "while indice < len(edades):\n",
    "    print(edades[indice])\n",
    "    indice += 1"
   ]
  },
  {
   "cell_type": "markdown",
   "metadata": {},
   "source": [
    "**Cómo agregar y remover elementos a una lista en Python**"
   ]
  },
  {
   "cell_type": "code",
   "execution_count": 11,
   "metadata": {},
   "outputs": [
    {
     "name": "stdout",
     "output_type": "stream",
     "text": [
      "la fruta es: pera\n",
      "la fruta es: sandia\n",
      "la fruta es: melon\n",
      "la fruta es: banana\n",
      "\n",
      "\n",
      "la fruta es: pera\n",
      "la fruta es: sandia\n",
      "la fruta es: melon\n",
      "la fruta es: banana\n",
      "la fruta es: kiwi\n",
      "la fruta es: kiwi\n",
      "\n",
      "\n",
      "la fruta es: kiwi\n",
      "la fruta es: banana\n",
      "la fruta es: melon\n",
      "la fruta es: sandia\n",
      "la fruta es: pera\n",
      "['hola', 'ola']\n"
     ]
    },
    {
     "data": {
      "text/plain": [
       "list"
      ]
     },
     "execution_count": 11,
     "metadata": {},
     "output_type": "execute_result"
    }
   ],
   "source": [
    "arreglo = ['banana', 'melon', 'sandia', 'pera']\n",
    "\n",
    "def funcion():\n",
    "    for fruta in arreglo:\n",
    "        print('la fruta es:', fruta)\n",
    "\n",
    "# Revierte el orden del arreglo\n",
    "arreglo.reverse()\n",
    "funcion()\n",
    "print(\"\\n\")\n",
    "\n",
    "# Agrega un elemento a la parte final\n",
    "arreglo.append(\"kiwi\")\n",
    "arreglo.append(\"kiwi\")\n",
    "funcion()\n",
    "print(\"\\n\")\n",
    "\n",
    "# Quita un elemento\n",
    "arreglo.remove('kiwi')# remueve un elemento pero de acuerdo al valor que hay en el indice(solo el primero que encuentre)\n",
    "arreglo.reverse()\n",
    "funcion()\n",
    "\n",
    "palabras = ['hola', 'hello', 'ola']\n",
    "palabras.pop(1)# Tambien remueve un elemento pero solo con el indice\n",
    "print(palabras)\n",
    "# Mostrará ['hola', 'ola']\n",
    "\n",
    "type(arreglo)"
   ]
  }
 ],
 "metadata": {
  "kernelspec": {
   "display_name": "Python 3.10.5 64-bit",
   "language": "python",
   "name": "python3"
  },
  "language_info": {
   "codemirror_mode": {
    "name": "ipython",
    "version": 3
   },
   "file_extension": ".py",
   "mimetype": "text/x-python",
   "name": "python",
   "nbconvert_exporter": "python",
   "pygments_lexer": "ipython3",
   "version": "3.10.5"
  },
  "orig_nbformat": 4,
  "vscode": {
   "interpreter": {
    "hash": "1371abc6f8baabf35c063e867118c8233582d921120941ee2812c2aa398e2fa1"
   }
  }
 },
 "nbformat": 4,
 "nbformat_minor": 2
}
