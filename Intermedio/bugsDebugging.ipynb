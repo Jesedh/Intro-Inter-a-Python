{
 "cells": [
  {
   "cell_type": "markdown",
   "metadata": {},
   "source": [
    "# Bugs y Debugging\n",
    "\n",
    "    Son los errores que arrojan los sistemas o son errores de programacion.\n",
    "\n",
    "* Bugs\n",
    "    * Significa insecto, los primeros errores de programacion eran porque entraban los insectos en las computadoras y ocasionaban los circuitos.\n",
    "    ***\n",
    "* Debugging\n",
    "    * Es como un juego donde somos el **detective**, **criminal** y la **victima**.\n",
    "    * Usan break points, para ir checando los bugs en el codigo.\n",
    "    \n",
    "    "
   ]
  },
  {
   "cell_type": "code",
   "execution_count": 2,
   "metadata": {},
   "outputs": [
    {
     "name": "stdout",
     "output_type": "stream",
     "text": [
      "Calcular el IMC de la primer persona\n",
      "Su IMC es: 24.221453287197235\n",
      "Tu peso es normal\n",
      "Calcular el IMC de la segunda persona\n",
      "Su IMC es: 25.95155709342561\n",
      "Tienes sobrepeso\n"
     ]
    }
   ],
   "source": [
    "'''\n",
    "IMC = peso / (altura * altura)\n",
    "IMC = peso / (altura**2)\n",
    "\n",
    "imc < 19 = delgadez\n",
    "20 < imc < 25 = normal\n",
    "26 < imc < 30 = sobrepeso\n",
    "imc > 30 = obesidad\n",
    "'''\n",
    "\n",
    "def imcCalculado(peso, altura):\n",
    "    imc = peso / altura**2\n",
    "    return imc\n",
    "\n",
    "def pedirIMC():\n",
    "\n",
    "    peso = float(input(\"Ingrese su peso en Kg\"))\n",
    "    altura = float(input(\"Ingrese su altura en M\"))\n",
    "\n",
    "    imc = imcCalculado(peso, altura)\n",
    "    print('Su IMC es: '+ str(imc))\n",
    "\n",
    "    if imc < 19:\n",
    "        print('Tienes delgadez')\n",
    "    if 19 <= imc <= 25:\n",
    "        print('Tu peso es normal')\n",
    "    if 25 < imc <= 30:\n",
    "        print('Tienes sobrepeso')\n",
    "    if imc > 30:\n",
    "        print('Tienes obesidad')\n",
    "\n",
    "print(\"Calcular el IMC de la primer persona\")\n",
    "pedirIMC()\n",
    "print(\"Calcular el IMC de la segunda persona\")\n",
    "pedirIMC()\n"
   ]
  }
 ],
 "metadata": {
  "kernelspec": {
   "display_name": "Python 3.8.6 32-bit",
   "language": "python",
   "name": "python3"
  },
  "language_info": {
   "codemirror_mode": {
    "name": "ipython",
    "version": 3
   },
   "file_extension": ".py",
   "mimetype": "text/x-python",
   "name": "python",
   "nbconvert_exporter": "python",
   "pygments_lexer": "ipython3",
   "version": "3.8.6"
  },
  "orig_nbformat": 4,
  "vscode": {
   "interpreter": {
    "hash": "2c645c58d4e56d108f6753aa7101c6c284bec34c65a6bf23f08e4ddfc10db486"
   }
  }
 },
 "nbformat": 4,
 "nbformat_minor": 2
}
