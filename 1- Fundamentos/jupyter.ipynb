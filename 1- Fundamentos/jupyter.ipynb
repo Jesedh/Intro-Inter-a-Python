{
 "cells": [
  {
   "cell_type": "markdown",
   "metadata": {},
   "source": [
    "### IPython\n",
    "\n",
    "* IPython, aparte del intérprete convencional que es totalmente personalizable, contaba con Notebook, una aplicación web que permitía registrar las sesiones de trabajo en cuadernos.\n",
    "\n",
    "* Como IPython como entorno interactivo tiene muchas aplicaciones en el año 2014 se anunció un proyecto separado para Notebook llamado Jupyter para el desarrollo de la aplicación web Jupyter Notebook y otras herramientas que permiten crear y compartir cuadernos de trabajo que pueden contener textos explicativos, ecuaciones, gráficos y código fuente con el resultado de su ejecución.\n",
    "\n",
    "* Con el tiempo el Proyecto Jupyter ha crecido y existen infinidad de cuadernos disponibles para su uso con soluciones que abarcan los distintos campos científicos.\n",
    "\n",
    "Referencias\n",
    "\n",
    "[Jupyter Notebook, La aplicacion WEB](https://python-para-impacientes.blogspot.com/2014/08/notebook-el-entorno-web-de-ipython.html)"
   ]
  },
  {
   "cell_type": "code",
   "execution_count": null,
   "metadata": {},
   "outputs": [],
   "source": []
  }
 ],
 "metadata": {
  "kernelspec": {
   "display_name": "Python 3.10.5 64-bit",
   "language": "python",
   "name": "python3"
  },
  "language_info": {
   "codemirror_mode": {
    "name": "ipython",
    "version": 3
   },
   "file_extension": ".py",
   "mimetype": "text/x-python",
   "name": "python",
   "nbconvert_exporter": "python",
   "pygments_lexer": "ipython3",
   "version": "3.10.5"
  },
  "orig_nbformat": 4,
  "vscode": {
   "interpreter": {
    "hash": "1371abc6f8baabf35c063e867118c8233582d921120941ee2812c2aa398e2fa1"
   }
  }
 },
 "nbformat": 4,
 "nbformat_minor": 2
}
