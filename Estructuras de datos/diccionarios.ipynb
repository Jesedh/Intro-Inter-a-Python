{
 "cells": [
  {
   "cell_type": "markdown",
   "metadata": {},
   "source": [
    "# Diccionarios\n",
    "\n",
    "    Es una estructura de datos o variable que nos permite guardar datos en formato CLAVE:VALOR, donde cada llave es un identificador unico de una posicion de la lista.\n",
    "\n",
    "![](https://3.bp.blogspot.com/-vZNUtkV52cs/V0WR_vQOCcI/AAAAAAAAPp8/7z3uxfx2UAkwr9e_zYYm3o0WMxO-OuA7wCLcB/s1600/244BIS.jpg)"
   ]
  },
  {
   "cell_type": "code",
   "execution_count": 3,
   "metadata": {},
   "outputs": [
    {
     "name": "stdout",
     "output_type": "stream",
     "text": [
      "andrea raziel reyes cruz\n"
     ]
    }
   ],
   "source": [
    "diccionario = {\n",
    "    'ACRO': 'Los Acronimos son las letras iniciales de la terminologia',\n",
    "    'POO':'Programacion Orientada a Objetos',\n",
    "    'MVC':'Modelo Vista Controlador',\n",
    "    'ARRC':'andrea raziel reyes cruz'\n",
    "}\n",
    "\n",
    "print(diccionario['ARRC'])"
   ]
  },
  {
   "cell_type": "code",
   "execution_count": 8,
   "metadata": {},
   "outputs": [
    {
     "name": "stdout",
     "output_type": "stream",
     "text": [
      "2\n",
      "dos\n",
      "5\n",
      "cinco\n",
      "6\n",
      "seis\n",
      "0 cero\n",
      "1 uno\n",
      "2 dos\n",
      "3 tres\n",
      "4 cuatro\n",
      "5 cinco\n",
      "6 seis\n",
      "7 siete\n",
      "8 ocho\n",
      "9 nueve\n",
      "10 diez\n"
     ]
    },
    {
     "ename": "KeyError",
     "evalue": "'256'",
     "output_type": "error",
     "traceback": [
      "\u001b[1;31m---------------------------------------------------------------------------\u001b[0m",
      "\u001b[1;31mKeyError\u001b[0m                                  Traceback (most recent call last)",
      "\u001b[1;32mc:\\Users\\Jesedh\\OneDrive\\Programación\\Python\\diccionarios.ipynb Cell 3'\u001b[0m in \u001b[0;36m<cell line: 26>\u001b[1;34m()\u001b[0m\n\u001b[0;32m     <a href='vscode-notebook-cell:/c%3A/Users/Jesedh/OneDrive/Programaci%C3%B3n/Python/diccionarios.ipynb#ch0000002?line=22'>23</a>\u001b[0m \u001b[39mfor\u001b[39;00m letra \u001b[39min\u001b[39;00m numeros:\n\u001b[0;32m     <a href='vscode-notebook-cell:/c%3A/Users/Jesedh/OneDrive/Programaci%C3%B3n/Python/diccionarios.ipynb#ch0000002?line=23'>24</a>\u001b[0m     \u001b[39mprint\u001b[39m(letra, numeros[letra])\n\u001b[1;32m---> <a href='vscode-notebook-cell:/c%3A/Users/Jesedh/OneDrive/Programaci%C3%B3n/Python/diccionarios.ipynb#ch0000002?line=25'>26</a>\u001b[0m \u001b[39mprint\u001b[39m(\u001b[39m'\u001b[39m\u001b[39mEl numero que ingresaste en texto es:\u001b[39m\u001b[39m'\u001b[39m, numeros[numero])\n\u001b[0;32m     <a href='vscode-notebook-cell:/c%3A/Users/Jesedh/OneDrive/Programaci%C3%B3n/Python/diccionarios.ipynb#ch0000002?line=29'>30</a>\u001b[0m \u001b[39mfor\u001b[39;00m donde_guardamos_la_posicion \u001b[39min\u001b[39;00m numeros:\n\u001b[0;32m     <a href='vscode-notebook-cell:/c%3A/Users/Jesedh/OneDrive/Programaci%C3%B3n/Python/diccionarios.ipynb#ch0000002?line=30'>31</a>\u001b[0m     \u001b[39mprint\u001b[39m(\u001b[39m'\u001b[39m\u001b[39mnumero:\u001b[39m\u001b[39m'\u001b[39m, numeros[donde_guardamos_la_posicion], sep\u001b[39m=\u001b[39m\u001b[39m'\u001b[39m\u001b[39m-\u001b[39m\u001b[39m'\u001b[39m, end\u001b[39m=\u001b[39m\u001b[39m'\u001b[39m\u001b[39m, \u001b[39m\u001b[39m'\u001b[39m)\n",
      "\u001b[1;31mKeyError\u001b[0m: '256'"
     ]
    }
   ],
   "source": [
    "numero = input('Ingresa un numero entre el 1 al 10')\n",
    "\n",
    "numeros = {\n",
    "    '0': 'cero',\n",
    "    '1':'uno',\n",
    "    '2':'dos',\n",
    "    '3':'tres',\n",
    "    '4':'cuatro',\n",
    "    '5':'cinco',\n",
    "    '6':'seis',\n",
    "    '7':'siete',\n",
    "    '8':'ocho',\n",
    "    '9':'nueve',\n",
    "    '10':'diez'\n",
    "}\n",
    "\n",
    "\n",
    "for letra in numero:\n",
    "    print(letra)\n",
    "    print(numeros[letra])\n",
    "\n",
    "\n",
    "for letra in numeros:\n",
    "    print(letra, numeros[letra])\n",
    "    \n",
    "print('El numero que ingresaste en texto es:', numeros[numero])\n",
    "\n",
    "\n",
    "\n",
    "for donde_guardamos_la_posicion in numeros:\n",
    "    print('numero:', numeros[donde_guardamos_la_posicion], sep='-', end=', ')\n",
    "\n"
   ]
  }
 ],
 "metadata": {
  "kernelspec": {
   "display_name": "Python 3.8.6 32-bit",
   "language": "python",
   "name": "python3"
  },
  "language_info": {
   "codemirror_mode": {
    "name": "ipython",
    "version": 3
   },
   "file_extension": ".py",
   "mimetype": "text/x-python",
   "name": "python",
   "nbconvert_exporter": "python",
   "pygments_lexer": "ipython3",
   "version": "3.8.6"
  },
  "orig_nbformat": 4,
  "vscode": {
   "interpreter": {
    "hash": "2c645c58d4e56d108f6753aa7101c6c284bec34c65a6bf23f08e4ddfc10db486"
   }
  }
 },
 "nbformat": 4,
 "nbformat_minor": 2
}
