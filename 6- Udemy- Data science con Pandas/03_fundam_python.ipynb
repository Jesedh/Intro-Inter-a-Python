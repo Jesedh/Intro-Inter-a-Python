{
 "cells": [
  {
   "cell_type": "markdown",
   "metadata": {},
   "source": [
    "# Fundamentos basicos de Python\n",
    "Tipos de datos"
   ]
  },
  {
   "cell_type": "code",
   "execution_count": 3,
   "metadata": {},
   "outputs": [
    {
     "data": {
      "text/plain": [
       "str"
      ]
     },
     "execution_count": 3,
     "metadata": {},
     "output_type": "execute_result"
    }
   ],
   "source": [
    "a=5 # int-numeros enteros\n",
    "b=6.1 # float-numeros reales\n",
    "c=\"hola\" #string-cadenas de textp\n",
    "d = True # Boolean-True/False\n",
    "type(c)"
   ]
  },
  {
   "cell_type": "markdown",
   "metadata": {},
   "source": [
    "Ejercicio: Calcular el Indice de masa corporal de una persona"
   ]
  },
  {
   "cell_type": "code",
   "execution_count": 5,
   "metadata": {},
   "outputs": [
    {
     "data": {
      "text/plain": [
       "25.95155709342561"
      ]
     },
     "execution_count": 5,
     "metadata": {},
     "output_type": "execute_result"
    }
   ],
   "source": [
    "#calcular el IMC de una persona\n",
    "# formula IMC=peso(kg) / (altura(m))^2\n",
    "\n",
    "peso = 75\n",
    "altura= 1.7\n",
    "\n",
    "IMC = peso/altura**2\n",
    "IMC # type-float"
   ]
  },
  {
   "cell_type": "markdown",
   "metadata": {},
   "source": [
    "Listas y extracion de datos"
   ]
  },
  {
   "cell_type": "code",
   "execution_count": 15,
   "metadata": {},
   "outputs": [
    {
     "name": "stdout",
     "output_type": "stream",
     "text": [
      "7\n",
      "[2, 3, 4, 5, 6, 7, 'ocho']\n"
     ]
    }
   ],
   "source": [
    "'''Posicion = 0, 1, 2, 3,\n",
    "Posicion = -4, -3, -2, -1, \n",
    "'''\n",
    "dimencion = [1,2,3,4,5,6,7,\"ocho\",9.0]\n",
    "print(dimencion[-3])\n",
    "# Seleccionar desde el 2° valor hasta el penultimo\n",
    "print(dimencion[1:-1])"
   ]
  },
  {
   "cell_type": "markdown",
   "metadata": {},
   "source": [
    "Conceptos avanzados de creacion de listas"
   ]
  },
  {
   "cell_type": "code",
   "execution_count": 19,
   "metadata": {},
   "outputs": [
    {
     "data": {
      "text/plain": [
       "['uno', 2, 'tres', 4]"
      ]
     },
     "execution_count": 19,
     "metadata": {},
     "output_type": "execute_result"
    }
   ],
   "source": [
    "# modificar elementos de una lista\n",
    "lista = [\"uno\", \"dos\", \"tres\"]\n",
    "lista[1] = 2 # ['uno', 2, 'tres']\n",
    "# añadir elemnetos a una lista\n",
    "n_lista = [4,5]\n",
    "lista = lista + n_lista # ['uno', 2, 'tres', 4, 5]\n",
    "# eliminar elementos de una lista\n",
    "del(lista[-1]) # ['uno', 2, 'tres', 4]\n",
    "# crear listas en base a otras listas\n",
    "x = lista # ['uno', 2, 'tres', 4] pero si es miodificado un valor de x tambien se modifica de lista\n",
    "\n",
    "y = list(lista) # ['uno', 2, 'tres', 4] esta a diferencias de la anterior es una lista independiente\n",
    "lista"
   ]
  },
  {
   "cell_type": "markdown",
   "metadata": {},
   "source": [
    "Uso de funciones\n",
    "* una funciones es un codigo reutilizable que resuelve una tarea en particular"
   ]
  },
  {
   "cell_type": "code",
   "execution_count": 5,
   "metadata": {},
   "outputs": [
    {
     "data": {
      "text/plain": [
       "3.14"
      ]
     },
     "execution_count": 5,
     "metadata": {},
     "output_type": "execute_result"
    }
   ],
   "source": [
    "# Funciones de las librerias de python\n",
    "lista = [80, 50, 69, 98]\n",
    "\n",
    "len(lista) # 4\n",
    "min(lista) # 50\n",
    "max(lista) # 98\n",
    "type(lista) #list\n",
    "\n",
    "round(3.1416, 2)"
   ]
  },
  {
   "cell_type": "code",
   "execution_count": 11,
   "metadata": {},
   "outputs": [
    {
     "name": "stdout",
     "output_type": "stream",
     "text": [
      "Help on function area_triangulo in module __main__:\n",
      "\n",
      "area_triangulo(base, altura)\n",
      "    Esta funcion calcula el area de un triangulo, con la formula (base*altura)/2\n",
      "\n"
     ]
    }
   ],
   "source": [
    "# Funciones creadas por el usuario, con argumentos por defecto\n",
    "def potencia(valor_base, valor_exponente=2):\n",
    "    # docstring\n",
    "    \"Funcion que elevada valor_base, a una potencia dada en valor_exponente\"\n",
    "    resultado = valor_base**valor_exponente\n",
    "    return resultado\n",
    "\n",
    "potencia(3) # 9\n",
    "\n",
    "# ¿Es posible tener argumentos flexibles, es decir, que se ingrese a la funcion un numero n de argumentos?\n",
    "\n",
    "def multi(*args):\n",
    "    multi_todos=1\n",
    "    for n in args:\n",
    "        multi_todos = multi_todos * n\n",
    "    return multi_todos\n",
    "\n",
    "multi(4,7,8) # 224\n",
    "\n",
    "### EJERCICIO\n",
    "# crear una funcion que calcule el area de un triagulo con la formula (b*a)/2\n",
    "\n",
    "def area_triangulo(base, altura):\n",
    "    \"Esta funcion calcula el area de un triangulo, con la formula (base*altura)/2\"\n",
    "    resultado = (base * altura) / 2\n",
    "    return resultado\n",
    "\n",
    "area_triangulo(5, 3) # 7.5\n",
    "\n",
    "help(area_triangulo) # Esta funcion calcula el area de un triangulo, con la formula (base*altura)/2"
   ]
  },
  {
   "cell_type": "markdown",
   "metadata": {},
   "source": [
    "Funciones Lambda"
   ]
  },
  {
   "cell_type": "code",
   "execution_count": 1,
   "metadata": {},
   "outputs": [
    {
     "name": "stdout",
     "output_type": "stream",
     "text": [
      "[4, 16, 36]\n",
      "[9.836363636363636, 10.863636363636362, 13.172727272727272, 22.68181818181818]\n"
     ]
    }
   ],
   "source": [
    "# son funciones con sintaxis mas ligera\n",
    "potencia = lambda base, exponente: base**exponente\n",
    "potencia(5,2)\n",
    "#funcion map:map(funcion,secuencia) - Aplica la funcion a todos los elemenmtos x de la secuencia (lista, columna de dataframe)\n",
    "lista = [2,4,6]\n",
    "lista_cuadrado = map(lambda x:x**2, lista)\n",
    "print(list(lista_cuadrado))\n",
    "#EJERCICIO crear una funcion lambda que convierta de dolares a euros una lista de precios asumiento que 1euro=1.1dolares\n",
    "\n",
    "pre_dolares = [10.82, 11.95, 14.49, 24.95]\n",
    "\n",
    "pre_euros = map(lambda y:y/1.1, pre_dolares)\n",
    "print(list(pre_euros))"
   ]
  },
  {
   "cell_type": "markdown",
   "metadata": {},
   "source": [
    "Metodos: son funciones que pertenecen a un objeto en concreto"
   ]
  },
  {
   "cell_type": "code",
   "execution_count": 23,
   "metadata": {},
   "outputs": [
    {
     "data": {
      "text/plain": [
       "[0, 1, 2, 3]"
      ]
     },
     "execution_count": 23,
     "metadata": {},
     "output_type": "execute_result"
    }
   ],
   "source": [
    "# Sintaxis de los metodfos: Nombre_objeto.nombre_metodo()\n",
    "nombre = \"andrea\" # tipo: str\n",
    "nombre.capitalize() # Andrea\n",
    "\n",
    "lista = [1,2,3]\n",
    "lista.insert(0,0)\n",
    "lista"
   ]
  },
  {
   "cell_type": "markdown",
   "metadata": {},
   "source": [
    "Diccionarios: Es un objeto de clave:valor"
   ]
  },
  {
   "cell_type": "code",
   "execution_count": 34,
   "metadata": {},
   "outputs": [
    {
     "data": {
      "text/plain": [
       "128"
      ]
     },
     "execution_count": 34,
     "metadata": {},
     "output_type": "execute_result"
    }
   ],
   "source": [
    "# Sintaxis = variable = {\"clave1\":1, \"clave2\":2}\n",
    "cal_alumn = {\"juan\":8, \"sofia\":9, \"andrea\":10, \"jesedh\":10}\n",
    "cal_alumn[\"andrea\"] # 10\n",
    "\n",
    "#A diferencia de una lista tendriamos que buscar hacer la indexacion para encontrar el indice en la columan de alumno y asi poder imprimirlo en calificiaciones\n",
    "alumno = [\"juan\", \"sofia\", \"andrea\", \"jesedh\"]\n",
    "calificaciones = [8,9,10,10]\n",
    "indice = alumno.index(\"andrea\")\n",
    "calificaciones[indice] # 10\n",
    "\n",
    "# ¿Se pueden unir 2 listas en un diccionario? Si!!!\n",
    "dic_alumnos = dict(zip(alumno, calificaciones))\n",
    "dic_alumnos # {'juan': 8, 'sofia': 9, 'andrea': 10, 'jesedh': 10}\n",
    "\n",
    "### EJERCICIO unir pais con poblacion en dic_pais\n",
    "\n",
    "pais = [\"España\",\"Mexico\",\"Venezuela\",\"Colombia\",\"Peru\",\"Argentina\",\"belgica\"]\n",
    "poblacion = [47, 128, 32, 50, 33, 45,1]\n",
    "\n",
    "dic_pais = dict(zip(pais, poblacion))\n",
    "dic_pais[\"Mexico\"]"
   ]
  },
  {
   "cell_type": "markdown",
   "metadata": {},
   "source": [
    "Operadores: Comparadores y Booleanos"
   ]
  },
  {
   "cell_type": "code",
   "execution_count": 38,
   "metadata": {},
   "outputs": [],
   "source": [
    "dic_comparadores = {\"<\":\"menor que\",\n",
    "\">\":\"mayor que\",\n",
    "\"<=\":\"menor o igual que\",\n",
    "\">=\":\"mayor o igual que\",\n",
    "\"==\":\"igual que\",\n",
    "\"!=\":\"diferente que o no igual que\",}\n",
    "\n",
    "dic_booleanos = {\"and\":\"Solo retorna verdadero si ambas condiciones son verdaderas\",\n",
    "\"or\":\"Retrona verdadero si alguna o ambas de las condiciones son verdadera\",\n",
    "\"not\":\"Retorna verdadero si la condicion es faltay retorna falso si la condicion es verdadera\",}"
   ]
  },
  {
   "cell_type": "markdown",
   "metadata": {},
   "source": [
    "Bucles IF and FOR"
   ]
  },
  {
   "cell_type": "code",
   "execution_count": 43,
   "metadata": {},
   "outputs": [
    {
     "name": "stdout",
     "output_type": "stream",
     "text": [
      "El area del circulo es: 78.53999999999999\n"
     ]
    }
   ],
   "source": [
    "## IF\n",
    "'''Sintaxis:\n",
    "if condicion_1:\n",
    "    expresion_1\n",
    "elif condicion_2:\n",
    "    expresion_2\n",
    "else:\n",
    "    expresion_3\n",
    "# Cabe mencionar que expresion_3 solo se ejecutara si ninguno de las anteriores expresiones se ejecuto\n",
    "'''\n",
    "# Calculo de areas\n",
    "objeto = \"circulo\"\n",
    "radio=5\n",
    "lado=3\n",
    "\n",
    "if objeto == \"cuadrado\":\n",
    "    area = lado**2\n",
    "    print(\"El area del cuadrado es: \" + str(area))\n",
    "elif objeto == \"circulo\":\n",
    "    area = (radio**2) * 3.1416\n",
    "    print(\"El area del circulo es: \" + str(area))\n",
    "else:\n",
    "    print(\"No se puede calcular el area del objeto\")"
   ]
  },
  {
   "cell_type": "code",
   "execution_count": 49,
   "metadata": {},
   "outputs": [
    {
     "name": "stdout",
     "output_type": "stream",
     "text": [
      "[(0, 58), (1, 59), (2, 84)]\n",
      "La medida  1  es  58\n",
      "La medida  2  es  59\n",
      "La medida  3  es  84\n"
     ]
    }
   ],
   "source": [
    "### FOR sintaxis: for var in sec: expresion\n",
    "# se evalua la expresion para cada var del objeto sec\n",
    "medidas = [58,59,84]\n",
    "print(list(enumerate(medidas)))\n",
    "for indice, valor in enumerate(medidas):\n",
    "    print(\"La medida \", indice+1 , \" es \", valor)"
   ]
  },
  {
   "cell_type": "markdown",
   "metadata": {},
   "source": [
    "Comprension de listas"
   ]
  },
  {
   "cell_type": "code",
   "execution_count": 52,
   "metadata": {},
   "outputs": [
    {
     "data": {
      "text/plain": [
       "[8, 5, 7, 7, 8]"
      ]
     },
     "execution_count": 52,
     "metadata": {},
     "output_type": "execute_result"
    }
   ],
   "source": [
    "# Comprension de listas, sintaxis: [expresion for var in sec]\n",
    "# con for convencional\n",
    "numeros = [3,5,7,2,8]\n",
    "num_sum_5 = []\n",
    "for i in numeros:\n",
    "    num_sum_5.append(i+5)\n",
    "num_sum_5 # [8, 10, 12, 7, 13]\n",
    "# con comprension de listas\n",
    "num_sum_5 = [num+5 for num in numeros]\n",
    "num_sum_5 # [8, 10, 12, 7, 13]\n",
    "# con una condicion, sumar 5 si es menor que 5\n",
    "num_sum_5 = [num+5 if num<5 else num for num in numeros]\n",
    "num_sum_5"
   ]
  },
  {
   "cell_type": "code",
   "execution_count": 53,
   "metadata": {},
   "outputs": [
    {
     "data": {
      "text/plain": [
       "[3, 36, 7, 4, 64]"
      ]
     },
     "execution_count": 53,
     "metadata": {},
     "output_type": "execute_result"
    }
   ],
   "source": [
    "# ejercio de lo anterior, crear lista que eleve al cuadrado los valpores pares de la lista\n",
    "numbers = [3,6,7,2,8]\n",
    "num_elevados2 = [num**2 if num%2==0 else num for num in numbers]\n",
    "num_elevados2"
   ]
  }
 ],
 "metadata": {
  "kernelspec": {
   "display_name": "Python 3.11.0 64-bit",
   "language": "python",
   "name": "python3"
  },
  "language_info": {
   "codemirror_mode": {
    "name": "ipython",
    "version": 3
   },
   "file_extension": ".py",
   "mimetype": "text/x-python",
   "name": "python",
   "nbconvert_exporter": "python",
   "pygments_lexer": "ipython3",
   "version": "3.11.0"
  },
  "orig_nbformat": 4,
  "vscode": {
   "interpreter": {
    "hash": "5238573367df39f7286bb46f9ff5f08f63a01a80960060ce41e3c79b190280fa"
   }
  }
 },
 "nbformat": 4,
 "nbformat_minor": 2
}
