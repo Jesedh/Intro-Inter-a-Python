{
 "cells": [
  {
   "cell_type": "markdown",
   "metadata": {},
   "source": [
    "# Conceptos estadisticos para analisis de datos\n",
    "\n",
    "* Variables: representan una cantidad que puede cambiar su valor\n",
    "* variables discretas: es una variable que se obtiene contando, por lo tanto tiene numeros discretos o enteros.\n",
    "* Variables continuas: es una variable que se obtiene mediendo, son numeros flotantes.\n",
    "\n",
    "**medidas de tendencia central**\n",
    "1. Media: \n",
    "$$X = \\frac{\\sum_{i=1}^n Xi}{n}$$\n",
    "2. Mediana: Valor en la posicion de enmedio entre variables ordenadas de manera ascendente\n",
    "3. Outlier: Valor atipico que puede hacer variar a las medidas de tendencia central\n",
    "\n",
    "*Nota: el valor medio es un dato estadistico importante, pero habitualmente la mediana es mas representativo de la distribucion de la variable y evita outliers*"
   ]
  },
  {
   "cell_type": "code",
   "execution_count": 58,
   "metadata": {},
   "outputs": [
    {
     "data": {
      "image/png": "[encoded data removed]",
      "text/plain": [
       "<Figure size 640x480 with 1 Axes>"
      ]
     },
     "metadata": {},
     "output_type": "display_data"
    }
   ],
   "source": [
    "import matplotlib.pyplot as plt\n",
    "import pandas as pd\n",
    "\n",
    "valores = [4,6,3,5,8,9,2,12,16,4,8,42,13,6,7]\n",
    "indices = list(range(15))\n",
    "dataframe = pd.DataFrame(list(zip(indices, valores)), columns=[\"indices\",\"valores\"])\n",
    "dataframe\n",
    "\n",
    "plt.scatter(dataframe[\"indices\"], dataframe.valores, c=\"green\")\n",
    "plt.plot(dataframe.indices, dataframe.valores, c=\"blue\")\n",
    "plt.axhline(y=dataframe.valores.mean(), c=\"red\") # linea que marca el promedio 9.6\n",
    "plt.axhline(y=dataframe.valores.median(), c=\"purple\") # linea que marca la linea de la mediana 7\n",
    "plt.show()"
   ]
  },
  {
   "cell_type": "code",
   "execution_count": 59,
   "metadata": {},
   "outputs": [
    {
     "data": {
      "text/html": [
       "<div>\n",
       "<style scoped>\n",
       "    .dataframe tbody tr th:only-of-type {\n",
       "        vertical-align: middle;\n",
       "    }\n",
       "\n",
       "    .dataframe tbody tr th {\n",
       "        vertical-align: top;\n",
       "    }\n",
       "\n",
       "    .dataframe thead th {\n",
       "        text-align: right;\n",
       "    }\n",
       "</style>\n",
       "<table border=\"1\" class=\"dataframe\">\n",
       "  <thead>\n",
       "    <tr style=\"text-align: right;\">\n",
       "      <th></th>\n",
       "      <th>indices</th>\n",
       "      <th>valores</th>\n",
       "    </tr>\n",
       "  </thead>\n",
       "  <tbody>\n",
       "    <tr>\n",
       "      <th>count</th>\n",
       "      <td>15.000000</td>\n",
       "      <td>15.000000</td>\n",
       "    </tr>\n",
       "    <tr>\n",
       "      <th>mean</th>\n",
       "      <td>7.000000</td>\n",
       "      <td>9.666667</td>\n",
       "    </tr>\n",
       "    <tr>\n",
       "      <th>std</th>\n",
       "      <td>4.472136</td>\n",
       "      <td>9.751679</td>\n",
       "    </tr>\n",
       "    <tr>\n",
       "      <th>min</th>\n",
       "      <td>0.000000</td>\n",
       "      <td>2.000000</td>\n",
       "    </tr>\n",
       "    <tr>\n",
       "      <th>25%</th>\n",
       "      <td>3.500000</td>\n",
       "      <td>4.500000</td>\n",
       "    </tr>\n",
       "    <tr>\n",
       "      <th>50%</th>\n",
       "      <td>7.000000</td>\n",
       "      <td>7.000000</td>\n",
       "    </tr>\n",
       "    <tr>\n",
       "      <th>75%</th>\n",
       "      <td>10.500000</td>\n",
       "      <td>10.500000</td>\n",
       "    </tr>\n",
       "    <tr>\n",
       "      <th>max</th>\n",
       "      <td>14.000000</td>\n",
       "      <td>42.000000</td>\n",
       "    </tr>\n",
       "  </tbody>\n",
       "</table>\n",
       "</div>"
      ],
      "text/plain": [
       "         indices    valores\n",
       "count  15.000000  15.000000\n",
       "mean    7.000000   9.666667\n",
       "std     4.472136   9.751679\n",
       "min     0.000000   2.000000\n",
       "25%     3.500000   4.500000\n",
       "50%     7.000000   7.000000\n",
       "75%    10.500000  10.500000\n",
       "max    14.000000  42.000000"
      ]
     },
     "execution_count": 59,
     "metadata": {},
     "output_type": "execute_result"
    }
   ],
   "source": [
    "import numpy as np\n",
    "dataframe.describe()"
   ]
  },
  {
   "cell_type": "markdown",
   "metadata": {},
   "source": [
    "Varianza de una variable: Indica la dispersion de un conjunto de datos respecto a su valor medio\n",
    "* si la varianza es alta entonces los valores de la variable estan mas alejados del valor medio y viceversa\n",
    "\n",
    "$$\\sigma^2 = \\frac{\\sum_{i=1}^n (X-media)^2}{n}$$\n",
    "\n",
    "* La varianza proporciona una medidad de volatilidad e incetidumbre de una variable(si todos los valores de la variable fueran iguales, el resultado de la varianza es 0 ,es decir, no hay incertidumbre)."
   ]
  },
  {
   "cell_type": "code",
   "execution_count": 75,
   "metadata": {},
   "outputs": [
    {
     "name": "stdout",
     "output_type": "stream",
     "text": [
      "La media es:  59.0\n",
      "La varianza es:  45.714285714285715\n",
      "La desviacion es:  6.761234037828133\n"
     ]
    }
   ],
   "source": [
    "peso_huevos = pd.DataFrame([60,56,61,68,51,53,69,54], columns = [\"peso\"])\n",
    "\n",
    "media = peso_huevos.peso.mean()\n",
    "print(\"La media es: \",media)\n",
    "\n",
    "varianza = peso_huevos.peso.var()\n",
    "print(\"La varianza es: \",varianza)\n",
    "\n",
    "desviacion = peso_huevos.peso.std()\n",
    "print(\"La desviacion es: \",desviacion)"
   ]
  },
  {
   "cell_type": "markdown",
   "metadata": {},
   "source": [
    "Correlacion: Nos indcica si existe relacion entre 2 variables y la dirrecion de la relacion"
   ]
  },
  {
   "cell_type": "markdown",
   "metadata": {},
   "source": [
    "Histrograma: Agrupar los valores de una variables en bins, proporciona la distribucion de la variable."
   ]
  },
  {
   "cell_type": "markdown",
   "metadata": {},
   "source": [
    "Funciones de densidad de probabiliad: Funcion que describe la probabiliadd de obtener cada uno de los valores de una variable\n",
    "* Aplica distinto para variables discretas que para continuas(puede tomar un conjunto infinito de valores)\n",
    "* En un histograma con una serie de bins se puyede obtener una funcion de probabilidad\n",
    "\n",
    "Distribucion normal(Campana de Gauss): es la mas importante se carcateriza por el valor medio y la varianza\n",
    "\n",
    "1. Para un sigma(varianza) pueden encontrarse el 68% de probablidad de nuestros datos\n",
    "2. Para 2 sigma(varianza) pueden encontrarse el 95% de probablidad de nuestros datos\n",
    "3. Para 3 sigma(varianza) pueden encontrarse el 99% de probablidad de nuestros datos"
   ]
  },
  {
   "cell_type": "markdown",
   "metadata": {},
   "source": [
    "Forecast: Prevision del valor fururo se una variable en base a su informacion historica (cuidado si hay eventos especiales)\n",
    "\n",
    "Media movil: es crear una serie de promedio de n puntos, para suavizar las fluctuaciones de plazos cortos y se centra en detectar tendencias a medio y largo plazo\n",
    "por ejemplo: media movil n=3, toma los 3 primeros valores de un conjunto de datos y les calcula el promedio siendo este el primer valor de la media movil = 3, despuies quita el primer valor del conjunto de datos y toma los 3 siguiente valores y les calcula el promedio y asi de forma repetitiva.\n"
   ]
  }
 ],
 "metadata": {
  "kernelspec": {
   "display_name": "Python 3.11.0 64-bit",
   "language": "python",
   "name": "python3"
  },
  "language_info": {
   "codemirror_mode": {
    "name": "ipython",
    "version": 3
   },
   "file_extension": ".py",
   "mimetype": "text/x-python",
   "name": "python",
   "nbconvert_exporter": "python",
   "pygments_lexer": "ipython3",
   "version": "3.11.0"
  },
  "orig_nbformat": 4,
  "vscode": {
   "interpreter": {
    "hash": "5238573367df39f7286bb46f9ff5f08f63a01a80960060ce41e3c79b190280fa"
   }
  }
 },
 "nbformat": 4,
 "nbformat_minor": 2
}
