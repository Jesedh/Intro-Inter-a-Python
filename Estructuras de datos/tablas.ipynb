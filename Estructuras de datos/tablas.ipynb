{
 "cells": [
  {
   "cell_type": "markdown",
   "metadata": {},
   "source": [
    "# Matrices\n",
    "\n",
    "    Las matrices, tablas o arreglos multidimencionales\n",
    "* Puedes agregar elementos mixtos, es decir, cualquier tipo de dato (texto, booleanos, números, etc.).\n",
    "* Comienzan por fila [0] y columna [0]\n",
    "\n",
    "[Programa ya: Tablas](https://www.programarya.com/Cursos/Python/estructuras-de-datos/tablasv)\n",
    "\n",
    "## 2. Array bidimencional\n",
    "\n",
    "<img src=https://raw.github.com/damianavila/Python-Cientifico-HCC/master/images/numpy_indexing.png width=30%>\n",
    "\n",
    "**Creacion de tabla y acceso a los valores de la tabla**"
   ]
  },
  {
   "cell_type": "code",
   "execution_count": 6,
   "metadata": {},
   "outputs": [
    {
     "name": "stdout",
     "output_type": "stream",
     "text": [
      "Juan\n",
      "32\n",
      "21\n",
      "Laura\n",
      "['Juan', 'Laura']\n"
     ]
    },
    {
     "data": {
      "text/plain": [
       "list"
      ]
     },
     "execution_count": 6,
     "metadata": {},
     "output_type": "execute_result"
    }
   ],
   "source": [
    "mi_tabla = [\n",
    "    ['Juan', 'Laura'],\n",
    "    [21, 32]\n",
    "]\n",
    "\n",
    "# mi_tabla[filas][columnas]\n",
    "\n",
    "# Muestra Juan (la primera posición es la 0, 0)\n",
    "print(mi_tabla[0][0])\n",
    "\n",
    "# Muestra 32 (última fila, segunda columna)\n",
    "print(mi_tabla[-1][1])\n",
    "\n",
    "# Muestra 21\n",
    "print(mi_tabla[1][0])\n",
    "\n",
    "# Muestra Laura\n",
    "print(mi_tabla[0][1])\n",
    "\n",
    "# Muestra la lista con nombres\n",
    "print(mi_tabla[0])\n",
    "type(tabla)"
   ]
  },
  {
   "cell_type": "code",
   "execution_count": 30,
   "metadata": {},
   "outputs": [
    {
     "name": "stdout",
     "output_type": "stream",
     "text": [
      "J\n",
      "L\n",
      "L\n",
      "R\n",
      "G\n",
      "\n",
      "5\n"
     ]
    }
   ],
   "source": [
    "mi_tabla = [\n",
    "    ['Juan', 21],\n",
    "    ['Laura', 32],\n",
    "    ['Luis', 15],\n",
    "    ['Roberto', 13],\n",
    "    ['Gustavo',18]\n",
    "]\n",
    "nombre = 0\n",
    "edad = 1\n",
    "inicial = 0\n",
    "for contenido in mi_tabla:\n",
    "    # En contenido guarda toda una fila\n",
    "    print(contenido[nombre][inicial])\n",
    "\n",
    "# len() obtenemos la longitud de la tabla en filas(que son las listas)\n",
    "print(\"\\n\" + str(len(mi_tabla)))"
   ]
  },
  {
   "cell_type": "code",
   "execution_count": 37,
   "metadata": {},
   "outputs": [
    {
     "name": "stdout",
     "output_type": "stream",
     "text": [
      "Juan\n",
      "21\n",
      "Laura\n",
      "32\n",
      "Luis\n",
      "15\n",
      "Roberto\n",
      "13\n",
      "Gustavo\n",
      "18\n",
      "\n",
      "\n",
      "Juan\n",
      "21\n",
      "Laura\n",
      "32\n",
      "Luis\n",
      "15\n",
      "Roberto\n",
      "13\n",
      "Gustavo\n",
      "18\n",
      "\n",
      "\n",
      "Juan\n",
      "21\n",
      "Laura\n",
      "32\n",
      "Luis\n",
      "15\n",
      "Roberto\n",
      "13\n",
      "Gustavo\n",
      "18\n"
     ]
    }
   ],
   "source": [
    "mi_tabla = [\n",
    "    ['Juan', 21],\n",
    "    ['Laura', 32],\n",
    "    ['Luis', 15],\n",
    "    ['Roberto', 13],\n",
    "    ['Gustavo',18]\n",
    "]\n",
    "# Accedemos a cada fila (que es una lista)\n",
    "for fila in mi_tabla:\n",
    "    # Accedemos a cada columna dentro de la fila\n",
    "    for columna in fila:\n",
    "        print(columna)\n",
    "print(\"\\n\")\n",
    "\n",
    "# Recorriendo los índices\n",
    "# i serían las filas\n",
    "for i in range(len(mi_tabla)):\n",
    "    for j in range(len(mi_tabla[i])):\n",
    "        print(mi_tabla[i][j])\n",
    "print(\"\\n\")\n",
    "\n",
    "# Con while y los índices\n",
    "fila = 0\n",
    "while fila < len(mi_tabla):\n",
    "    columna = 0\n",
    "    while columna < len(mi_tabla[fila]):\n",
    "        print(mi_tabla[fila][columna])\n",
    "        columna += 1\n",
    "    fila += 1"
   ]
  }
 ],
 "metadata": {
  "kernelspec": {
   "display_name": "Python 3.10.5 64-bit",
   "language": "python",
   "name": "python3"
  },
  "language_info": {
   "codemirror_mode": {
    "name": "ipython",
    "version": 3
   },
   "file_extension": ".py",
   "mimetype": "text/x-python",
   "name": "python",
   "nbconvert_exporter": "python",
   "pygments_lexer": "ipython3",
   "version": "3.10.5"
  },
  "orig_nbformat": 4,
  "vscode": {
   "interpreter": {
    "hash": "1371abc6f8baabf35c063e867118c8233582d921120941ee2812c2aa398e2fa1"
   }
  }
 },
 "nbformat": 4,
 "nbformat_minor": 2
}
