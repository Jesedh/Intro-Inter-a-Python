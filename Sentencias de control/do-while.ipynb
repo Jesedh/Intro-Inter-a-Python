{
 "cells": [
  {
   "cell_type": "markdown",
   "metadata": {},
   "source": [
    "# Bucle: Do-While\n",
    "\n",
    "    ¿Qué es un bucle do while ? Lo único en los bucles do while , es que su código será ejecutado al menos una vez. El código se ejecuta una vez, y luego la condición es verificada, solo después de la ejecución del código.\n",
    "\n",
    "![](https://www.freecodecamp.org/espanol/news/content/images/2020/12/do-while.jpg)\n",
    "\n",
    "En python no hay un do-while como tal, pero se puede emular la funcionalidad con funciones."
   ]
  },
  {
   "cell_type": "code",
   "execution_count": 8,
   "metadata": {},
   "outputs": [
    {
     "name": "stdout",
     "output_type": "stream",
     "text": [
      "21\n"
     ]
    }
   ],
   "source": [
    "x = 20\n",
    "def run_commands(x):\n",
    "\tx += 1\n",
    "\tprint(x)\n",
    "\n",
    "run_commands(x) # Do-while\n",
    "while(x <= 10):\n",
    "\trun_commands()"
   ]
  }
 ],
 "metadata": {
  "kernelspec": {
   "display_name": "Python 3.10.5 64-bit",
   "language": "python",
   "name": "python3"
  },
  "language_info": {
   "codemirror_mode": {
    "name": "ipython",
    "version": 3
   },
   "file_extension": ".py",
   "mimetype": "text/x-python",
   "name": "python",
   "nbconvert_exporter": "python",
   "pygments_lexer": "ipython3",
   "version": "3.10.5"
  },
  "orig_nbformat": 4,
  "vscode": {
   "interpreter": {
    "hash": "1371abc6f8baabf35c063e867118c8233582d921120941ee2812c2aa398e2fa1"
   }
  }
 },
 "nbformat": 4,
 "nbformat_minor": 2
}
