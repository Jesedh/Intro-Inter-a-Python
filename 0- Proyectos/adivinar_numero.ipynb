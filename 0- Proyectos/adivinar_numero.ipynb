{
 "cells": [
  {
   "cell_type": "markdown",
   "metadata": {},
   "source": [
    "# Adivinar un numero\n",
    "En este ejercicio la computadora generara un numero aleatorio y el usuario tratara de adivinarlo"
   ]
  },
  {
   "cell_type": "code",
   "execution_count": 7,
   "metadata": {},
   "outputs": [
    {
     "name": "stdout",
     "output_type": "stream",
     "text": [
      "=======================\n",
      "Bienvenido al juego de adivinar el numero\n",
      "=======================\n",
      "La meta es adivinar el numero que la computadora genere aleatoriamente.\n",
      "Ya se a generado el numero aleatorio!\n",
      "3\n",
      "El numero que ingresaste es mayor\n",
      "Felicidades! Adivinaste el numero y es: 3\n",
      "Fin del programa\n"
     ]
    }
   ],
   "source": [
    "import random # importamos la biblioteca para poder trabajar con numeros aleatorios\n",
    "\n",
    "def adivina_numero(x):\n",
    "    numero = random.randint(1, x)\n",
    "\n",
    "    print(\"=======================\")\n",
    "    print(\"Bienvenido al juego de adivinar el numero\")\n",
    "    print(\"=======================\")\n",
    "    print(\"La meta es adivinar el numero que la computadora genere aleatoriamente.\")\n",
    "    print(\"Ya se a generado el numero aleatorio!\")\n",
    "    print(numero)\n",
    "    # print(type(numero)) # con esta linea se muestra el tipo de dato que es la variable\n",
    "    pas = 1\n",
    "\n",
    "    while(pas == 1):\n",
    "        respuesta = int(input(f\"Que numero aleatorio piensas que se genero de entre el 1 y el {x}: \"))\n",
    "        #print(type(respuesta))\n",
    "        if numero == respuesta:\n",
    "            print(\"Felicidades! Adivinaste el numero y es: \" + str(numero))\n",
    "            pas = 0\n",
    "            # print(type(pas)) # con esta linea se muestra el tipo de dato que es la variable\n",
    "        if numero < respuesta:\n",
    "            print(\"El numero que ingresaste es mayor\")\n",
    "        if numero > respuesta:\n",
    "            print(\"El numero que ingresaste es menor\")\n",
    "\n",
    "    print(\"Fin del programa\")\n",
    "\n",
    "adivina_numero(10) "
   ]
  }
 ],
 "metadata": {
  "kernelspec": {
   "display_name": "Python 3.10.5 64-bit",
   "language": "python",
   "name": "python3"
  },
  "language_info": {
   "codemirror_mode": {
    "name": "ipython",
    "version": 3
   },
   "file_extension": ".py",
   "mimetype": "text/x-python",
   "name": "python",
   "nbconvert_exporter": "python",
   "pygments_lexer": "ipython3",
   "version": "3.10.5"
  },
  "orig_nbformat": 4,
  "vscode": {
   "interpreter": {
    "hash": "1371abc6f8baabf35c063e867118c8233582d921120941ee2812c2aa398e2fa1"
   }
  }
 },
 "nbformat": 4,
 "nbformat_minor": 2
}
