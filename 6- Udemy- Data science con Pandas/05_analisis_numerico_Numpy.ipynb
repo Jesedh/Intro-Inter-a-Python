{
 "cells": [
  {
   "cell_type": "markdown",
   "metadata": {},
   "source": [
    "# Analisis numerico con Numpy\n",
    "\n",
    "* Libreria enfocada al calculo numerico sencilla y rapida.\n",
    "* Su objeto base es el **Array Numpy (Alternativa a la lista)**.\n",
    "* Calculos realizados sobre todo en el Array.\n",
    "* Solo pueden contener un tipo de dato(normalmente numerico) a diferencia de las listas.\n",
    "* Es la base de calculo para otras librerias como Pandas.\n",
    "\n",
    "Surge como necesidad de querer hacer **Calculos masivos con una lista**\n",
    "\n",
    "Ejemplo: IMC = peso/(altura)**2\n",
    "\n",
    "altura = [1.7, 1.65, 1.82]\n",
    "\n",
    "peso = [67, 55, 72]\n",
    "\n",
    "IMC = peso / altura**2 # NOS MARCARA ERROR, YA QUE NO SE PUEDE APLICAR EL CALCULO A CADA UNO DE LOS DATOS"
   ]
  },
  {
   "cell_type": "code",
   "execution_count": 1,
   "metadata": {},
   "outputs": [],
   "source": [
    "# Solucionando lo anterior con array de numpy\n",
    "import numpy as np"
   ]
  },
  {
   "cell_type": "code",
   "execution_count": 3,
   "metadata": {},
   "outputs": [
    {
     "data": {
      "text/plain": [
       "array([23.183391  , 20.2020202 , 21.73650525])"
      ]
     },
     "execution_count": 3,
     "metadata": {},
     "output_type": "execute_result"
    }
   ],
   "source": [
    "altura = np.array([1.7, 1.65, 1.82])\n",
    "peso = np.array([67, 55, 72])\n",
    "# Calculo a lo largo de todo el array\n",
    "IMC = peso / altura**2\n",
    "IMC"
   ]
  },
  {
   "cell_type": "markdown",
   "metadata": {},
   "source": [
    "Seleccion de datos con array Numpy: es justamento lo mismo que con las listas\n",
    "\n",
    "sintaxis : slice[incio(incluido):final(excluido)]"
   ]
  },
  {
   "cell_type": "code",
   "execution_count": 7,
   "metadata": {},
   "outputs": [
    {
     "data": {
      "text/plain": [
       "array([23.183391  , 21.73650525])"
      ]
     },
     "execution_count": 7,
     "metadata": {},
     "output_type": "execute_result"
    }
   ],
   "source": [
    "IMC[1] # 20.202020202020204\n",
    "IMC>21 # array([ True, False,  True])\n",
    "IMC[IMC>21]"
   ]
  },
  {
   "cell_type": "markdown",
   "metadata": {},
   "source": [
    "Ejercicio: Calcular masivamente el area de 5 retangulos y devolver unicamente aquellos con area mayor que 10"
   ]
  },
  {
   "cell_type": "code",
   "execution_count": 11,
   "metadata": {},
   "outputs": [
    {
     "data": {
      "text/plain": [
       "array([15, 28, 24])"
      ]
     },
     "execution_count": 11,
     "metadata": {},
     "output_type": "execute_result"
    }
   ],
   "source": [
    "bases_rec = np.array([5,2,4,7,8])\n",
    "alturas_rec = np.array([3,4,1,4,3])\n",
    "\n",
    "areas_rec = bases_rec * alturas_rec # array([15,  8,  4, 28, 24])\n",
    "areas_rec[areas_rec>10]"
   ]
  },
  {
   "cell_type": "markdown",
   "metadata": {},
   "source": [
    "Para concatenar array y no sumar 1 a 1 (como pasaria en las lista: lis1 + list2(aqui se concatenan))"
   ]
  },
  {
   "cell_type": "code",
   "execution_count": 21,
   "metadata": {},
   "outputs": [
    {
     "data": {
      "text/plain": [
       "array([5, 2, 4, 7, 8, 3, 4, 1, 4, 3])"
      ]
     },
     "execution_count": 21,
     "metadata": {},
     "output_type": "execute_result"
    }
   ],
   "source": [
    "nuevo = bases_rec + alturas_rec # array([8, 6, 5, 11, 11])\n",
    "concatenado = np.concatenate((bases_rec,alturas_rec), axis=0)\n",
    "concatenado"
   ]
  },
  {
   "cell_type": "markdown",
   "metadata": {},
   "source": [
    "Array 2D o Matriz\n",
    "\n",
    "|0  |1  |2  |   |\n",
    "|---|---|---|---|\n",
    "|2  |7  |8  |**0**  |\n",
    "|4  |8  |10 |**1**  |\n"
   ]
  },
  {
   "cell_type": "code",
   "execution_count": 24,
   "metadata": {},
   "outputs": [
    {
     "data": {
      "text/plain": [
       "array([[2, 7],\n",
       "       [4, 8]])"
      ]
     },
     "execution_count": 24,
     "metadata": {},
     "output_type": "execute_result"
    }
   ],
   "source": [
    "matriz = np.array([[2,7,8],[4,8,10]])\n",
    "\n",
    "matriz[1,2] # 10\n",
    "matriz[:,0:2]"
   ]
  },
  {
   "cell_type": "markdown",
   "metadata": {},
   "source": [
    "Calculos estadisticos con numpy"
   ]
  },
  {
   "cell_type": "code",
   "execution_count": 36,
   "metadata": {},
   "outputs": [
    {
     "data": {
      "text/plain": [
       "17.23"
      ]
     },
     "execution_count": 36,
     "metadata": {},
     "output_type": "execute_result"
    }
   ],
   "source": [
    "temperatura = np.array([12,13.5,13,14,13.2,14.8,15,15.6,16,16.2,15.7,17,17.2,16.8,14,14.2,14.7,16,17.5,18])\n",
    "\n",
    "np.mean(temperatura)\n",
    "np.median(temperatura)\n",
    "np.var(temperatura)\n",
    "np.std(temperatura)\n",
    "np.percentile(temperatura, 90)"
   ]
  },
  {
   "cell_type": "markdown",
   "metadata": {},
   "source": [
    "Ejercicio: Crear distribucion gaussiana de  10,000 puinbtos con media 3 y desviacione estandar 1.5, obtener el rango en que se encuentra el 95% de nuestro valores\n",
    "\n",
    "<center> <h1>(x - 2sigma < X < x + 2sigma)</h1> </center>"
   ]
  },
  {
   "cell_type": "code",
   "execution_count": 38,
   "metadata": {},
   "outputs": [
    {
     "data": {
      "text/plain": [
       "[0.011864532725841759, 6.000819543086578]"
      ]
     },
     "execution_count": 38,
     "metadata": {},
     "output_type": "execute_result"
    }
   ],
   "source": [
    "# sintaxis : np.array.normal(media, desviacion_estandar, num_valores)\n",
    "\n",
    "dis_gauss = np.random.normal(3, 1.5, 10000)\n",
    "media = np.mean(dis_gauss)\n",
    "des_est = np.std(dis_gauss)\n",
    "\n",
    "rango_95 = [media-2*des_est, media+2*des_est]\n",
    "rango_95 # El 95% de nuestros datos se encuentra entre el rango [0.011864532725841759, 6.000819543086578]"
   ]
  },
  {
   "cell_type": "markdown",
   "metadata": {},
   "source": [
    "Graficamos lo anterior"
   ]
  },
  {
   "cell_type": "code",
   "execution_count": 39,
   "metadata": {},
   "outputs": [
    {
     "data": {
      "text/plain": [
       "<matplotlib.collections.PathCollection at 0x27a90925b50>"
      ]
     },
     "execution_count": 39,
     "metadata": {},
     "output_type": "execute_result"
    },
    {
     "data": {
      "image/png": "[encoded data removed]",
      "text/plain": [
       "<Figure size 640x480 with 1 Axes>"
      ]
     },
     "metadata": {},
     "output_type": "display_data"
    }
   ],
   "source": [
    "import matplotlib.pyplot as plt\n",
    "import scipy.stats as stats\n",
    "\n",
    "plt.scatter(dis_gauss, stats.norm.pdf(dis_gauss, media, des_est))"
   ]
  }
 ],
 "metadata": {
  "kernelspec": {
   "display_name": "Python 3.11.0 64-bit",
   "language": "python",
   "name": "python3"
  },
  "language_info": {
   "codemirror_mode": {
    "name": "ipython",
    "version": 3
   },
   "file_extension": ".py",
   "mimetype": "text/x-python",
   "name": "python",
   "nbconvert_exporter": "python",
   "pygments_lexer": "ipython3",
   "version": "3.11.0"
  },
  "orig_nbformat": 4,
  "vscode": {
   "interpreter": {
    "hash": "5238573367df39f7286bb46f9ff5f08f63a01a80960060ce41e3c79b190280fa"
   }
  }
 },
 "nbformat": 4,
 "nbformat_minor": 2
}
