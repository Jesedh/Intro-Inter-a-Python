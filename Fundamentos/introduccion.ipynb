{
 "cells": [
  {
   "cell_type": "markdown",
   "metadata": {},
   "source": [
    "## Introduccion a **Python**\n",
    "    Es una lenguaje de programación de alto nivel, interpretado y creado antes que java.\n",
    "\n",
    "***Paradigma de Programacion Estructurada o Secuencial***\n",
    "\n",
    "Nos permite utilizar principalmente:\n",
    "* Variables\n",
    "* Estructuras de control. Aunque se considera que la programacion estructurada se puede construir unicamente con:\n",
    "    * Secuencias\n",
    "    * Seleccion o instruccion condicional\n",
    "    * Iteracion o bucle de instrucciones\n",
    "* Funciones(Programacion funcional)\n",
    "* Estructuras de datos:\n",
    "\n",
    "    La desventaja es que al querer guardar datos como tablas resulta un poco mas complejo de hacerlo, en ves de hacerlo con clases y arreglos unidimencionales.\n",
    "\n",
    "**Python representa la programacion funcional:**\n",
    "En pocas palabras, la programación funcional es un paradigma de programación distinto al tradicional estructurado u orientado a objetos al que solemos estar acostumbrados. Se basa principalmente en el uso de funciones.\n",
    "\n",
    "**Paginas en español para aprender lo basico de python**\n",
    "* [Pyhtones](https://pythones.net/) (tambien intermedio y avanzado)\n",
    "* [El libro de python](https://ellibrodepython.com/)\n",
    "* [Programarya](https://www.programarya.com/Cursos/Python)\n",
    "* [AprendePython](https://aprendeconalf.es/docencia/python/manual/)(principales librerias)\n",
    "\n",
    "**Caracteristicas**\n",
    "* Es un lenguaje fuertemente tipado y dinamico(que las variables pueden tomar valores de distinto tipo).\n",
    "* Multiplataforma y multiparadigma\n",
    "    * Orientado a objetos\n",
    "    * Imperativo\n",
    "    * Funcional\n",
    "* Lenguaje sensillo, legible y elegante.\n",
    "* **Programacion productiva:** Es sencillo de aprender, con una curva de aprendizaje moderada. Es muy fácil comenzar a programar y fomenta la productividad.\n",
    "\n",
    "**Principales usos**\n",
    "* Automatizar procesos\n",
    "* Crear paginas WEB\n",
    "* Aplicaciones de escritorio\n",
    "* Ideal para trababajar con **inteligencia artificial**\n",
    "* **Herramientas principales:** PySpark (Big Data), o Pandas, NumPy(Analisis de datos), Matplotlib(Graficos de datos), Django(Desarrollo Web) o Jupyter (Data Science).\n",
    "\n",
    "**¿Que es informacion?**\n",
    "\n",
    "Es un conjunto de **datos** organizados que al leerlos nos produce un significado.\n",
    "\n",
    "* **El dato:** Es la minima unidad dentro de la informacion\n",
    "\n",
    "<img src=\"..\\img\\informacion.png\" width=\"300\">\n"
   ]
  },
  {
   "cell_type": "markdown",
   "metadata": {},
   "source": [
    "## **Indice**\n",
    "\n",
    "1. **Hola mundo con Python**\n",
    "\n",
    "    Se utiliza la funcion print(\"\") para imprimir un valor en la consola.\n",
    "\n",
    "2. **Declaracion de variables**\n",
    "\n",
    "    Al ser un lenguaje de tipado dinamico no se necesita declarar el *tipo de dato* de la variable que se va emplear unicamente hay que declarar el nombre de la variable.\n",
    "\n",
    "**Tipos de datos**\n",
    "* Tipo cadena (string): No son tipos de datos en si, en realidad provienen de los arrays ocupan distintas posiciones comenzando por el 0.\n",
    "\n",
    "    <img src=\"..\\img\\string.png\" width=\"300\">\n",
    "\n",
    "* Enteros (int)\n",
    "* Booleanos(true or false)\n",
    "\n",
    "1. **Tipos de Operadores**\n",
    "\n",
    "* Operadores Aritmeticos\n",
    "* Operadores de Comparacion(sentencias condicionales)\n",
    "* Operadores Logicos(para los datos booleanos y sentencias condicionales)\n",
    "\n",
    "4. **Entrada de datos** \n",
    "\n",
    "5. **Sentencias o Estructuras de control**\n",
    "\n",
    "    Las Sentencias de control utilizan los diagramas de flujo para facilitar la estructura.\n",
    "\n",
    "* Condicionales\n",
    "    1. Condicional if\n",
    "    2. Condicional if-else\n",
    "    3. Condicionales anidados\n",
    "* Ciclos o Bucles\n",
    "    1. Ciclo while\n",
    "    2. Ciclo for\n",
    "    \n",
    "6. **Estructuras de Datos o Colecciones**\n",
    "\n",
    "    Las estructuras de datos más comunes en Python son las listas, las tablas y los diccionarios. Aunque tienen otro nombre, en otros lenguajes, son los arreglos o vectores, las matrices y los arreglos indexados, respectivamente.\n",
    "    \n",
    "* Listas (vectores o arreglos unidimencionales)\n",
    "* Tablas (matrices o arreglos bidimencionales)\n",
    "* Diccionarios (listas asociativas o arreglos indexados o objetos)\n"
   ]
  },
  {
   "cell_type": "markdown",
   "metadata": {},
   "source": [
    "## 1. Hola Mundo"
   ]
  },
  {
   "cell_type": "code",
   "execution_count": 1,
   "metadata": {},
   "outputs": [
    {
     "name": "stdout",
     "output_type": "stream",
     "text": [
      "Hola mundo\n"
     ]
    }
   ],
   "source": [
    "# Mi primer hola mundo\n",
    "print(\"Hola mundo\")"
   ]
  },
  {
   "cell_type": "markdown",
   "metadata": {},
   "source": [
    "## 2. Declaracion de variables"
   ]
  },
  {
   "cell_type": "code",
   "execution_count": 26,
   "metadata": {},
   "outputs": [
    {
     "name": "stdout",
     "output_type": "stream",
     "text": [
      "23\n",
      "\n",
      "Hola mundo, soy Jesedh y tengo 22 años\n"
     ]
    }
   ],
   "source": [
    "## Variables\n",
    "    # Son espacios para almacenar valores, estos valores pueden variar.\n",
    "    # No se pueden usar palabras reservadas, no pueden empezar por numeros y no se puden usar espacios.\n",
    "# Declaramos las varibles\n",
    "x = 15\n",
    "y = 8\n",
    "# Hacemos la suma de variables\n",
    "z = x+y\n",
    "print(z) # Imprimimos el valor de z\n",
    "\n",
    "## Variables de tipo string\n",
    "nombre = 'Jesedh'\n",
    "edad = 22\n",
    "texto = '\\nHola mundo, soy '+ nombre +' y tengo '+ str(edad) +' años' # Aqui se hace una conversion de int a string\n",
    "print(texto)\n",
    "\n"
   ]
  },
  {
   "cell_type": "markdown",
   "metadata": {},
   "source": [
    "## 3. Tipos de operadores\n",
    "\n",
    "**Operadores aritmeticos**\n",
    "\n",
    "<img src=\"..\\img\\aritmeticos.png\" width=\"400\">\n",
    "\n",
    "**Operadores de comparacion**\n",
    "\n",
    "Se usan para las condiciones de las sentencias de control como: if, while, do-while\n",
    "\n",
    "<img src=\"..\\img\\operadorescomparacion.png\" width=\"400\">\n",
    "\n",
    "**Operadores logicos**\n",
    "\n",
    "<img src=\"..\\img\\logicos.jpg\" width=\"400\">\n",
    "<img src=\"..\\img\\logicos.png\" width=\"400\">\n",
    "\n"
   ]
  },
  {
   "cell_type": "markdown",
   "metadata": {},
   "source": [
    "## 4. Entrada de datos"
   ]
  },
  {
   "cell_type": "code",
   "execution_count": 5,
   "metadata": {},
   "outputs": [
    {
     "name": "stdout",
     "output_type": "stream",
     "text": [
      "Este es un mensaje, Te amo.\n",
      "Aleatorio en Python, hola\n",
      "100\n",
      "y se ve muy bien en pantalla:-50-20\n"
     ]
    }
   ],
   "source": [
    "# Salida de datos\n",
    "num = 50\n",
    "print(\"Este es un mensaje, \"+\"Te amo.\") # El signo de mas(+) se usa para concatenar strings\n",
    "print(\"Aleatorio en Python,\",\"hola\") # la coma agrega un espacio en automatico al concatenar\n",
    "print(50 + num)\n",
    "print(\"y se ve muy bien en pantalla:\", num, 20, sep=\"-\")# Se pueden concatener numero cuando ponemos coma(,)"
   ]
  },
  {
   "cell_type": "markdown",
   "metadata": {},
   "source": [
    "## 5. Sentencias de control\n",
    "\n",
    "Para representar las estructuras de control se usan diagramas de flujo, estas son indispensables en sistemas computaciones.\n",
    "\n",
    "<img src=\"..\\img\\diagramasflujo.png\" width=\"400\">\n"
   ]
  },
  {
   "cell_type": "code",
   "execution_count": 6,
   "metadata": {},
   "outputs": [
    {
     "name": "stdout",
     "output_type": "stream",
     "text": [
      "Verdadero\n",
      "Verdadero\n",
      "fin del codigo\n",
      "\n",
      "Hola Jesedh Guerrero Paisano\n",
      "Es mayor de edad\n"
     ]
    }
   ],
   "source": [
    "# Uso de operadores de comparacion, logicos y aritmeticos.\n",
    "edad = 25\n",
    "if(edad > 18 and edad < 70):\n",
    "    print(\"Verdadero\")\n",
    "if not(edad < 18 or edad > 70):\n",
    "    print(\"Verdadero\")\n",
    "print(\"fin del codigo\\n\")\n",
    "\n",
    "# Sentencia IF\n",
    "nombre = input('¿Como te llamas?')# Pedimos ingresar valor desde el teclado y lo guardamos en string\n",
    "print('Hola '+ nombre)\n",
    "edad = int(input(\"¿Cuantos años tienes?\"))# Guardamos el valor ingresado en un tipo entero\n",
    "if edad >= 18:\n",
    "    print(\"Es mayor de edad\")\n",
    "else:\n",
    "    print(\"Es menor de edad\")"
   ]
  }
 ],
 "metadata": {
  "kernelspec": {
   "display_name": "Python 3.10.5 64-bit",
   "language": "python",
   "name": "python3"
  },
  "language_info": {
   "codemirror_mode": {
    "name": "ipython",
    "version": 3
   },
   "file_extension": ".py",
   "mimetype": "text/x-python",
   "name": "python",
   "nbconvert_exporter": "python",
   "pygments_lexer": "ipython3",
   "version": "3.10.5"
  },
  "orig_nbformat": 4,
  "vscode": {
   "interpreter": {
    "hash": "1371abc6f8baabf35c063e867118c8233582d921120941ee2812c2aa398e2fa1"
   }
  }
 },
 "nbformat": 4,
 "nbformat_minor": 2
}
