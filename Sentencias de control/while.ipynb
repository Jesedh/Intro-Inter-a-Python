{
 "cells": [
  {
   "cell_type": "markdown",
   "metadata": {},
   "source": [
    "# Bucles: While\n",
    "\n",
    "    Es una sentencia de control del tipo bucle sirve para hacer un numero especifico de iteraciones.\n",
    "\n",
    "**Diagrama de flujo**\n",
    "\n",
    "![](https://www.researchgate.net/profile/Miguel-Suarez-Ledo/publication/313664762/figure/fig3/AS:461396619075585@1487016934061/Figura-32-Diagrama-de-Flujo-mostrando-un-ciclo-while.png)\n",
    "\n",
    "**Ejemplo**"
   ]
  },
  {
   "cell_type": "code",
   "execution_count": 17,
   "metadata": {},
   "outputs": [
    {
     "name": "stdout",
     "output_type": "stream",
     "text": [
      "El valor del contador es: 1\n",
      "El valor del contador es: 2\n",
      "El valor del contador es: 4\n",
      "El valor del contador es: 5\n",
      "El valor del contador es: 6\n",
      "El valor del contador es: 7\n",
      "El valor del contador es: 8\n",
      "El valor del contador es: 9\n",
      "\n",
      " Estamos fuera del contador\n"
     ]
    }
   ],
   "source": [
    "# declaramos variables\n",
    "# Recordar que trabajamos en el ciclo while con valores booleanos.\n",
    "contador = 1\n",
    "while contador < 10:\n",
    "\n",
    "    if contador == 3:\n",
    "        contador += 1\n",
    "        continue\n",
    "\n",
    "    print('El valor del contador es: '+ str(contador))\n",
    "    contador += 1\n",
    "    # contador = contador + 1\n",
    "    \n",
    "print(\"\\n Estamos fuera del contador\")\n"
   ]
  },
  {
   "cell_type": "markdown",
   "metadata": {},
   "source": [
    "**Ejercicio**"
   ]
  },
  {
   "cell_type": "code",
   "execution_count": 30,
   "metadata": {},
   "outputs": [
    {
     "name": "stdout",
     "output_type": "stream",
     "text": [
      "😂\n",
      "Deseas continuar?\n",
      "si = 1 y no =0\n",
      "😢\n",
      "Deseas continuar?\n",
      "si = 1 y no =0\n",
      "❤\n",
      "Deseas continuar?\n",
      "si = 1 y no =0\n",
      "Estamos fuera del ciclo\n"
     ]
    }
   ],
   "source": [
    "valor = 1\n",
    "\n",
    "while valor == 1:\n",
    "    texto = input('Ingresa una palabra a reemplazar')\n",
    "    \n",
    "    texto = texto.replace(':)', '😂')\n",
    "    texto = texto.replace('<3', '❤')\n",
    "    texto = texto.replace(':(', '😢')\n",
    "\n",
    "    print(texto)\n",
    "\n",
    "    print('Deseas continuar?')\n",
    "    print('si = 1 y no =0')\n",
    "    valor = int(input('Respuesta:'))\n",
    "\n",
    "\n",
    "print('Estamos fuera del ciclo')"
   ]
  },
  {
   "cell_type": "markdown",
   "metadata": {},
   "source": [
    "**Control de bucles**\n",
    "\n",
    "* Break\n",
    "    * Veamos cómo salir del ciclo mientras la condición es verdadera.\n",
    "\n",
    "* Continue\n",
    "    * Si desea omitir el bucle si se cumple una determinada condición\n"
   ]
  },
  {
   "cell_type": "code",
   "execution_count": 1,
   "metadata": {},
   "outputs": [
    {
     "name": "stdout",
     "output_type": "stream",
     "text": [
      "1\n",
      "2\n",
      "3\n",
      "4\n"
     ]
    }
   ],
   "source": [
    "# Break\n",
    "x = 1\n",
    "while (x <= 10):\n",
    "    if(x == 5):\n",
    "    \tbreak\n",
    "    print(x)\n",
    "    x += 1"
   ]
  },
  {
   "cell_type": "code",
   "execution_count": 5,
   "metadata": {},
   "outputs": [
    {
     "name": "stdout",
     "output_type": "stream",
     "text": [
      "1\n",
      "2\n",
      "3\n",
      "4\n",
      "6\n",
      "7\n",
      "8\n",
      "9\n",
      "10\n"
     ]
    }
   ],
   "source": [
    "# Continue\n",
    "x = 1\n",
    "while (x <= 10):\n",
    "    if(x == 5):\n",
    "    \tx += 1\n",
    "    \tcontinue\n",
    "    \n",
    "    print(x)\n",
    "    x += 1"
   ]
  }
 ],
 "metadata": {
  "kernelspec": {
   "display_name": "Python 3.10.5 64-bit",
   "language": "python",
   "name": "python3"
  },
  "language_info": {
   "codemirror_mode": {
    "name": "ipython",
    "version": 3
   },
   "file_extension": ".py",
   "mimetype": "text/x-python",
   "name": "python",
   "nbconvert_exporter": "python",
   "pygments_lexer": "ipython3",
   "version": "3.10.5"
  },
  "orig_nbformat": 4,
  "vscode": {
   "interpreter": {
    "hash": "1371abc6f8baabf35c063e867118c8233582d921120941ee2812c2aa398e2fa1"
   }
  }
 },
 "nbformat": 4,
 "nbformat_minor": 2
}
