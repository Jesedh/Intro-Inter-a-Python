{
 "cells": [
  {
   "cell_type": "markdown",
   "metadata": {},
   "source": [
    "# Estructura IF\n",
    "\n",
    "    Estructura de control de tipo condicional, basicamente se evalua la condiciones y se procede a seguir un camino u otro.\n",
    "\n",
    "* Al evaluar arrojan valores **Booleanos**.\n",
    "\n",
    "**Diagrama de flujo**\n",
    "\n",
    "![](https://www2.eii.uva.es/fund_inf/cpp/_images/if_else_if.jpg)"
   ]
  },
  {
   "cell_type": "code",
   "execution_count": 4,
   "metadata": {},
   "outputs": [
    {
     "name": "stdout",
     "output_type": "stream",
     "text": [
      "no puedes pasar\n"
     ]
    }
   ],
   "source": [
    "# Programa para determinar si alguien con las caracterisitcas pasa a la montaña rusa\n",
    "\n",
    "edad = int(input('Cuantos años tienes?'))\n",
    "hijoDelDueño = input('Eres hijo del dueño?')\n",
    "\n",
    "# La importancia del codigo, es esta linea que es la sentencia condicional con posibles valores entre true o false\n",
    "dejarPasar = edad > 12 or hijoDelDueño == 'si'\n",
    "\n",
    "if dejarPasar:\n",
    "    print('Puedes pasar')\n",
    "else:\n",
    "    print('no puedes pasar')"
   ]
  },
  {
   "cell_type": "markdown",
   "metadata": {},
   "source": [
    "**¿Como sabemos si un numero es impar?**"
   ]
  },
  {
   "cell_type": "code",
   "execution_count": 5,
   "metadata": {},
   "outputs": [
    {
     "name": "stdout",
     "output_type": "stream",
     "text": [
      "Es un numero impar\n",
      "no es un numero impar\n"
     ]
    }
   ],
   "source": [
    "numero = 10\n",
    "numero1 = 5\n",
    "\n",
    "if numero % 2 == 0:\n",
    "    print('Es un numero impar')\n",
    "\n",
    "if numero1 % 2 == 0:\n",
    "    print('Es un numero impar')\n",
    "else:\n",
    "    print('No es un numero impar')"
   ]
  }
 ],
 "metadata": {
  "kernelspec": {
   "display_name": "Python 3.10.5 64-bit",
   "language": "python",
   "name": "python3"
  },
  "language_info": {
   "codemirror_mode": {
    "name": "ipython",
    "version": 3
   },
   "file_extension": ".py",
   "mimetype": "text/x-python",
   "name": "python",
   "nbconvert_exporter": "python",
   "pygments_lexer": "ipython3",
   "version": "3.10.5"
  },
  "orig_nbformat": 4,
  "vscode": {
   "interpreter": {
    "hash": "1371abc6f8baabf35c063e867118c8233582d921120941ee2812c2aa398e2fa1"
   }
  }
 },
 "nbformat": 4,
 "nbformat_minor": 2
}
