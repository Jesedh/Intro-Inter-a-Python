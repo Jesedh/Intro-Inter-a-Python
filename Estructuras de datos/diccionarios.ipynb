{
 "cells": [
  {
   "cell_type": "markdown",
   "metadata": {},
   "source": [
    "# Diccionarios\n",
    "\n",
    "    Es una estructura de datos o variable que nos permite guardar datos en formato CLAVE:VALOR, donde cada llave es un identificador unico de una posicion de la lista.\n",
    "\n",
    "![](https://3.bp.blogspot.com/-vZNUtkV52cs/V0WR_vQOCcI/AAAAAAAAPp8/7z3uxfx2UAkwr9e_zYYm3o0WMxO-OuA7wCLcB/s1600/244BIS.jpg)"
   ]
  },
  {
   "cell_type": "code",
   "execution_count": 3,
   "metadata": {},
   "outputs": [
    {
     "name": "stdout",
     "output_type": "stream",
     "text": [
      "andrea raziel reyes cruz\n"
     ]
    }
   ],
   "source": [
    "diccionario = {\n",
    "    'ACRO': 'Los Acronimos son las letras iniciales de la terminologia',\n",
    "    'POO':'Programacion Orientada a Objetos',\n",
    "    'MVC':'Modelo Vista Controlador',\n",
    "    'ARRC':'andrea raziel reyes cruz',\n",
    "    \"IPN\": \"Intituto Politecnico Nacional\"\n",
    "}\n",
    "\n",
    "print(diccionario['ARRC'])"
   ]
  },
  {
   "cell_type": "code",
   "execution_count": 1,
   "metadata": {},
   "outputs": [
    {
     "name": "stdout",
     "output_type": "stream",
     "text": [
      "5\n",
      "cinco\n",
      "0 cero\n",
      "1 uno\n",
      "2 dos\n",
      "3 tres\n",
      "4 cuatro\n",
      "5 cinco\n",
      "6 seis\n",
      "7 siete\n",
      "8 ocho\n",
      "9 nueve\n",
      "10 diez\n",
      "El numero que ingresaste en texto es: cinco\n",
      "numero:-cero, numero:-uno, numero:-dos, numero:-tres, numero:-cuatro, numero:-cinco, numero:-seis, numero:-siete, numero:-ocho, numero:-nueve, numero:-diez, "
     ]
    }
   ],
   "source": [
    "numero = input('Ingresa un numero entre el 1 al 10')\n",
    "\n",
    "numeros = {\n",
    "    '0': 'cero',\n",
    "    '1':'uno',\n",
    "    '2':'dos',\n",
    "    '3':'tres',\n",
    "    '4':'cuatro',\n",
    "    '5':'cinco',\n",
    "    '6':'seis',\n",
    "    '7':'siete',\n",
    "    '8':'ocho',\n",
    "    '9':'nueve',\n",
    "    '10':'diez'\n",
    "}\n",
    "\n",
    "\n",
    "for letra in numero:\n",
    "    print(letra)\n",
    "    print(numeros[letra])\n",
    "\n",
    "\n",
    "for letra in numeros:\n",
    "    print(letra, numeros[letra])\n",
    "    \n",
    "print('El numero que ingresaste en texto es:', numeros[numero])\n",
    "\n",
    "\n",
    "\n",
    "for donde_guardamos_la_posicion in numeros:\n",
    "    print('numero:', numeros[donde_guardamos_la_posicion], sep='-', end=', ')\n",
    "\n"
   ]
  }
 ],
 "metadata": {
  "kernelspec": {
   "display_name": "Python 3.11.0 64-bit",
   "language": "python",
   "name": "python3"
  },
  "language_info": {
   "codemirror_mode": {
    "name": "ipython",
    "version": 3
   },
   "file_extension": ".py",
   "mimetype": "text/x-python",
   "name": "python",
   "nbconvert_exporter": "python",
   "pygments_lexer": "ipython3",
   "version": "3.11.0"
  },
  "orig_nbformat": 4,
  "vscode": {
   "interpreter": {
    "hash": "5238573367df39f7286bb46f9ff5f08f63a01a80960060ce41e3c79b190280fa"
   }
  }
 },
 "nbformat": 4,
 "nbformat_minor": 2
}
