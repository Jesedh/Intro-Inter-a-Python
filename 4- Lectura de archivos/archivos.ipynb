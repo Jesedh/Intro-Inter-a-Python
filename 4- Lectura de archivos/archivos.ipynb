{
 "cells": [
  {
   "cell_type": "markdown",
   "metadata": {},
   "source": [
    "# Lectura de archivos\n",
    "\n",
    "<img src=https://i.ytimg.com/vi/LZEjh0AtOH4/maxresdefault.jpg width=\"40%\">\n",
    "\n",
    "**Abrir archivos en python mediante el objeto file**\n",
    "\n",
    "Podemos manipular una variable como un objeto file (archivo) asignándole un archivo mediante la función integrada open e indicando la ruta del mismo seguido del modo en el cual vamos a abrirlo. Entonces la variable toma como valor el archivo y se convierte en un objeto file permitiéndonos trabajar con ella utilizando los métodos.\n",
    "\n",
    "**Modos para abrir un ARCHIVO**\n",
    "\n",
    "* **Modo de Solo lectura (Read) (“r”)**\n",
    "\n",
    "    Para especificar que lo abrimos en modo de lectura lo hacemos añadiendo la letra “r” luego del nombre. Como lo especifica su nombre solo permite al intérprete trabajar con él en modo lectura por lo que lo cargará en memoria pero no podrá editarlo.\n",
    "\n",
    "* **Modo de Escritura (Write) (“w”)**\n",
    "\n",
    "    Al abrir un archivo en este modo el mismo será borrado y vuelto a escribir, por eso es importante distinguir este modo como de truncado. Si el archivo no existe, lo creara. Pero hay que tener en cuenta el echo de que si el mismo existe sera reescrito, y eso si trabajamos con algún archivo importante es destacable.\n",
    "\n",
    "* **Modo de Solo escritura al final (“a”)**\n",
    "\n",
    "    Este modo nos permite escribir en el archivo posicionandonos al final de el mismo. Si abrimos un archivo utilizando este modo siempre estaremos escribiendo a continuación de lo que ya se encuentra en el mismo sin necesidad de posicionar el puntero. También al igual que write si el archivo no existe sera creado.\n",
    "\n",
    "* **Modo de Lectura- Escritura (+) (r+ , w+, a+)**\n",
    "\n",
    "    Si a cualquiera de los anteriores le añadimos un “+” se convierte en modo de escritura y lectura. Pero ambos (“r+”) y (“w+”) trabajan de manera diferente. Al utilizar (“w+”) si el archivo existe será truncado, es decir, se borrara todo su contenido y se sobreescribirá en el. No es así el caso de (“r+”). (a+) permanece igual, solo que al agregarle un + si el fichero no existe sera creado.\n",
    "\n",
    "> Recuerda que tanto “w” como “w+” van a truncar los archivos en caso de existir, por lo que si abres un file existente el mismo será sobrescrito y perderás su contenido,\n",
    "\n",
    "Para mas informacion de la manipulacion de archivos\n",
    "\n",
    "* [Pythones](https://pythones.net/archivos-en-python-3/)\n",
    "* [El libro de Python](https://ellibrodepython.com/leer-archivos-python)\n",
    "* [Programa ya](https://www.programarya.com/Cursos/Python/manejo-de-archivos)"
   ]
  },
  {
   "cell_type": "code",
   "execution_count": 3,
   "metadata": {},
   "outputs": [],
   "source": [
    "#Forma clásica de crear un archivo:\n",
    "f = open(\"archivotext.txt\", \"w\") #Creamos el archivo\n",
    "f.write(\"Creando archivo de texto en python de forma clásica\") #<-Escribimos en el\n",
    "f.close() #Cerramos el archivo\n",
    "#Utilizando With As <-----------------------Nuestra forma de hacerlo\n",
    "\n",
    "with open (\"archivotext.txt\", \"w\") as f: #Creamos el archivo\n",
    "    f.write(\"Creando archivo de texto en python usando whit as\") #<-Escribimos en el\n",
    "    f.close()\n",
    "#Podria traducirse como:\n",
    "#Abrir \"archivotext.txt en modo Write como f.\n",
    "\n",
    "\n",
    "# with open (\"Nombre\", \"modo de apertura\") as Objeto:\n",
    "#     Objeto.Write() #<----Método escribir del objeto \n",
    "#Recordar que las líneas debajo de with as deben ir identadas!"
   ]
  },
  {
   "cell_type": "code",
   "execution_count": 6,
   "metadata": {},
   "outputs": [
    {
     "name": "stdout",
     "output_type": "stream",
     "text": [
      "\n",
      "Prueba de guardado en el archivo\n",
      "Prueba de guardado en el archivo\n"
     ]
    }
   ],
   "source": [
    "# Escritura y creacion de un archivo\n",
    "archivo = open(\"archivo.txt\", \"a\")\n",
    "archivo.write(\"\\nPrueba de guardado en el archivo\")\n",
    "archivo.close()\n",
    "\n",
    "# Lecutura de un archivo\n",
    "archivo = open(\"archivo.txt\", 'r')\n",
    "contenido = archivo.read()\n",
    "print(contenido)\n",
    "archivo.close()"
   ]
  },
  {
   "cell_type": "markdown",
   "metadata": {},
   "source": [
    "# Proyecto para encriptar y desenciptar informacion sensible"
   ]
  },
  {
   "cell_type": "code",
   "execution_count": 27,
   "metadata": {},
   "outputs": [
    {
     "name": "stdout",
     "output_type": "stream",
     "text": [
      "El texto desencriptado es: jesedh 5577253757\n"
     ]
    }
   ],
   "source": [
    "# Este programa le pedira un texto al usuario que sera encriptado y despues sera desencriptado\n",
    "\n",
    "def encriptar(texto):\n",
    "    textoFinal = ''\n",
    "    for letra in texto:\n",
    "        ascii = ord(letra)\n",
    "        ascii += 1\n",
    "        textoFinal += chr(ascii)\n",
    "    return textoFinal\n",
    "\n",
    "def desencriptar(contenido):\n",
    "    textoFinal = ''\n",
    "    for letra in contenido:\n",
    "        ascii = ord(letra)# La funcion ord() convierte cualquier caracter a codgio ASCII\n",
    "        ascii -= 1\n",
    "        textoFinal += chr(ascii)# La funcion chr() convierte cualquier codgio ASCII a caracter normal\n",
    "    return textoFinal\n",
    "\n",
    "def encriptarArchivo():\n",
    "# Creamos el archivo para despues escribir en el(Si no existe sera creado el archivo)\n",
    "    archivo = open(\"criptografia.txt\", \"w\")\n",
    "    archivo.write(encriptar(input(\"Ingrese el texto a encriptar\")))\n",
    "    archivo.close()\n",
    "# Abrimos el archivo en modo lectura para imprimir el contenido en la consola\n",
    "    archivo = open(\"criptografia.txt\", \"r\")\n",
    "    print(\"El texto encriptado es:\", archivo.read())\n",
    "    archivo.close()\n",
    "\n",
    "def desencriptarArchivo():\n",
    "# Abrimos el archivo en modo lectura\n",
    "    archivo = open(\"criptografia.txt\", 'r')\n",
    "# Guardamos el contenido en una variable para poder recorrerlo en un for y desencriptarlo\n",
    "    contenido = archivo.read()\n",
    "    archivo.close()\n",
    "    \n",
    "# Creamos el archivo para escribir en el, el texto desencriptado(sera reescrito el archivo)\n",
    "    archivo = open(\"criptografia.txt\", \"w\")\n",
    "    archivo.write(desencriptar(contenido))\n",
    "    archivo.close()\n",
    "\n",
    "# Abrimos el archivo en modo lectura para imprimir el contenido en la consola\n",
    "    archivo = open(\"criptografia.txt\", 'r')\n",
    "    print(\"El texto desencriptado es:\", archivo.read())\n",
    "    archivo.close()\n",
    "\n",
    "desicion = input('Presionar E para encriptar o D para desencriptar')\n",
    "if desicion == 'e' or desicion == 'E':\n",
    "    encriptarArchivo()\n",
    "else:\n",
    "    desencriptarArchivo()"
   ]
  }
 ],
 "metadata": {
  "kernelspec": {
   "display_name": "Python 3.8.6 32-bit",
   "language": "python",
   "name": "python3"
  },
  "language_info": {
   "codemirror_mode": {
    "name": "ipython",
    "version": 3
   },
   "file_extension": ".py",
   "mimetype": "text/x-python",
   "name": "python",
   "nbconvert_exporter": "python",
   "pygments_lexer": "ipython3",
   "version": "3.8.6"
  },
  "orig_nbformat": 4,
  "vscode": {
   "interpreter": {
    "hash": "2c645c58d4e56d108f6753aa7101c6c284bec34c65a6bf23f08e4ddfc10db486"
   }
  }
 },
 "nbformat": 4,
 "nbformat_minor": 2
}
