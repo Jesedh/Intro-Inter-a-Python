{
 "cells": [
  {
   "cell_type": "code",
   "execution_count": 31,
   "metadata": {},
   "outputs": [
    {
     "name": "stdout",
     "output_type": "stream",
     "text": [
      "1.0\n",
      "hola\n",
      "[1, 2, 3]\n",
      "5\n",
      "[[7, 8, 9], [4, 5, 6], [1, 2, 3]]\n",
      "[1, 2, 3, 'hola', True]\n",
      "['1' '2' '3' 'hola' 'True']\n"
     ]
    }
   ],
   "source": [
    "import math\n",
    "import numpy as np\n",
    "\"\"\"\n",
    "pi = math.pi\n",
    "e = math.e\n",
    "\n",
    "print(pi)\n",
    "\n",
    "x = input(\"ingresa tu nombre\")\n",
    "\n",
    "print(x)\n",
    "\"\"\"\n",
    "\n",
    "# crearemos una funcion que convierta centimetros a pulgadas\n",
    "# 1 inch = 2.54cm\n",
    "def f1(cm):\n",
    "    inch=cm/2.54\n",
    "    return inch\n",
    "\n",
    "x = f1(2.54)\n",
    "print(x)\n",
    "\n",
    "### Estructura de datos\n",
    "\n",
    "listavacia = []\n",
    "lista2 = [1,2,3,'hola', True]\n",
    "\n",
    "print(lista2[3])\n",
    "print(lista2[:3])\n",
    "\n",
    "matriz = [\n",
    "    [7,8,9],\n",
    "    [4,5,6],\n",
    "    [1,2,3]\n",
    "]\n",
    "\n",
    "print(matriz[1][1])\n",
    "print(matriz)\n",
    "\n",
    "print(lista2)\n",
    "lista2 = np.array(lista2)\n",
    "print(lista2)\n",
    "\n",
    "#E = np.dot()"
   ]
  }
 ],
 "metadata": {
  "kernelspec": {
   "display_name": "Python 3.8.6 32-bit",
   "language": "python",
   "name": "python3"
  },
  "language_info": {
   "codemirror_mode": {
    "name": "ipython",
    "version": 3
   },
   "file_extension": ".py",
   "mimetype": "text/x-python",
   "name": "python",
   "nbconvert_exporter": "python",
   "pygments_lexer": "ipython3",
   "version": "3.8.6"
  },
  "orig_nbformat": 4,
  "vscode": {
   "interpreter": {
    "hash": "2c645c58d4e56d108f6753aa7101c6c284bec34c65a6bf23f08e4ddfc10db486"
   }
  }
 },
 "nbformat": 4,
 "nbformat_minor": 2
}
