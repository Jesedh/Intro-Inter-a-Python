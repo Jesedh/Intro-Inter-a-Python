{
 "cells": [
  {
   "cell_type": "markdown",
   "metadata": {},
   "source": [
    "# Bucle: FOR\n",
    "\n",
    "    Un bucle for establece la variable iteradora en cada valor de una lista, arreglo o cadena proporcionada y repite el código en el cuerpo del bucle for para cada valor de la variable iteradora.\n",
    "    \n",
    "![](img/for.png)\n",
    "\n",
    "**Ejemplo**"
   ]
  },
  {
   "cell_type": "code",
   "execution_count": 2,
   "metadata": {},
   "outputs": [
    {
     "name": "stdout",
     "output_type": "stream",
     "text": [
      "Letra:  H\n",
      "Letra:  o\n",
      "Letra:  l\n",
      "Letra:  a\n",
      "Letra:   \n",
      "Letra:  m\n",
      "Letra:  u\n",
      "Letra:  n\n",
      "Letra:  d\n",
      "Letra:  o\n",
      "3\n",
      "4\n",
      "5\n",
      "6\n",
      "7\n",
      "8\n"
     ]
    }
   ],
   "source": [
    "texto = \"Hola mundo\"\n",
    "\n",
    "for letra in texto:\n",
    "    print(\"Letra: \", letra)\n",
    "\n",
    "for numero in range(3, 9):\n",
    "    print(numero)"
   ]
  },
  {
   "cell_type": "code",
   "execution_count": 1,
   "metadata": {},
   "outputs": [
    {
     "name": "stdout",
     "output_type": "stream",
     "text": [
      "1, 2, 3, 4, "
     ]
    }
   ],
   "source": [
    "for i in [1, 2, 3, 4]:\n",
    "    print(i, end=\", \") # prints: 1, 2, 3, 4,"
   ]
  },
  {
   "cell_type": "markdown",
   "metadata": {},
   "source": [
    "![](img\\range.png)"
   ]
  },
  {
   "cell_type": "code",
   "execution_count": 3,
   "metadata": {},
   "outputs": [
    {
     "name": "stdout",
     "output_type": "stream",
     "text": [
      "0, 1, 2, 3, 4, "
     ]
    }
   ],
   "source": [
    "for i in range(5):\n",
    "    print(i, end=\", \") # prints: 0, 1, 2, 3, 4, "
   ]
  },
  {
   "cell_type": "code",
   "execution_count": 4,
   "metadata": {},
   "outputs": [
    {
     "name": "stdout",
     "output_type": "stream",
     "text": [
      "-1, 0, 1, 2, 3, 4, "
     ]
    }
   ],
   "source": [
    "for i in range(-1, 5):\n",
    "    print(i, end=\", \") # prints: -1, 0, 1, 2, 3, 4, "
   ]
  }
 ],
 "metadata": {
  "kernelspec": {
   "display_name": "Python 3.8.6 32-bit",
   "language": "python",
   "name": "python3"
  },
  "language_info": {
   "codemirror_mode": {
    "name": "ipython",
    "version": 3
   },
   "file_extension": ".py",
   "mimetype": "text/x-python",
   "name": "python",
   "nbconvert_exporter": "python",
   "pygments_lexer": "ipython3",
   "version": "3.8.6"
  },
  "orig_nbformat": 4,
  "vscode": {
   "interpreter": {
    "hash": "2c645c58d4e56d108f6753aa7101c6c284bec34c65a6bf23f08e4ddfc10db486"
   }
  }
 },
 "nbformat": 4,
 "nbformat_minor": 2
}
