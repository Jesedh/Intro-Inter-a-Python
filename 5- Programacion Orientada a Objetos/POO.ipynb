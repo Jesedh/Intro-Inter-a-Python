{
 "cells": [
  {
   "cell_type": "markdown",
   "metadata": {},
   "source": [
    "# Programacion Orientada a Objetos\n",
    "\n",
    "    En POO se utilizan dioferemntes tipos de estructuras para guardar datos.\n",
    "\n",
    "**Ventajas**\n",
    "* Para guardar mucha informacion en ves de utilizar tablas o diccionarios usamos clases de la programacion orientada a objetos.\n",
    "* Reutilizacion de codigo.\n",
    "* Agiliza el desarrollo de software.\n",
    "* El codigo es mas parecido al mundo real.\n",
    "* Facilita el trabajo en equipo.\n",
    "\n",
    "**Clases**\n",
    "\n",
    "Las clases son\n",
    "\n",
    "* Propiedades(atributos o variables)\n",
    "\n",
    "**Objetos(instancia de una clase)**\n",
    "\n",
    "**Metodos(funciones)**\n",
    "\n",
    "**Polimorfismos**\n",
    "\n",
    "**Encapsulamiento**\n",
    "\n",
    "**Herencia**\n"
   ]
  },
  {
   "cell_type": "code",
   "execution_count": null,
   "metadata": {},
   "outputs": [],
   "source": [
    "class cuadrado:\n",
    "    def __init\n",
    "    ancho = 50\n",
    "    alto = 30"
   ]
  }
 ],
 "metadata": {
  "language_info": {
   "name": "python"
  },
  "orig_nbformat": 4
 },
 "nbformat": 4,
 "nbformat_minor": 2
}
