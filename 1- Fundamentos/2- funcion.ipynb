{
 "cells": [
  {
   "cell_type": "markdown",
   "metadata": {},
   "source": [
    "# Funcion\n",
    "\n",
    "    Una funcion es un bloque de codigo que se puede reutilizar y sirve para simplificar el codigo repetitivo.\n",
    "* Se le pasan algunos parametro aunque pueden quedar vacios para que pueda funcionar y despues devuelve un valor como salida\n",
    "\n",
    "**Ejemplo: Descuento de un producto en tienda de ropa**"
   ]
  },
  {
   "cell_type": "code",
   "execution_count": 1,
   "metadata": {},
   "outputs": [
    {
     "name": "stdout",
     "output_type": "stream",
     "text": [
      "El precio del pantalon es: $32.0\n",
      "El precio del camisa es: $15.0\n"
     ]
    }
   ],
   "source": [
    "producto = 'pantalon'\n",
    "precio = 40\n",
    "porcentaje_descuento = 20\n",
    "precioFinal = precio - porcentaje_descuento*precio/100\n",
    "print(\"El precio del \"+producto+\" es: $\"+str(precioFinal))\n",
    "\n",
    "producto = 'camisa'\n",
    "precio = 30\n",
    "porcentaje_descuento = 50\n",
    "precioFinal = precio - porcentaje_descuento*precio/100\n",
    "print(\"El precio del \"+producto+\" es: $\"+str(precioFinal))"
   ]
  },
  {
   "cell_type": "code",
   "execution_count": 2,
   "metadata": {},
   "outputs": [
    {
     "name": "stdout",
     "output_type": "stream",
     "text": [
      "El precio del pantalon es: $32.0\n",
      "El precio del camisa es: $15.0\n"
     ]
    }
   ],
   "source": [
    "def mostrarPrecioFinal(producto, precio, descuento):\n",
    "    precioFinal = precio - descuento*precio/100\n",
    "    print(\"El precio del \"+producto+\" es: $\"+str(precioFinal))\n",
    "\n",
    "mostrarPrecioFinal(\"pantalon\", 40, 20)\n",
    "mostrarPrecioFinal(\"camisa\", 30, 50)\n"
   ]
  },
  {
   "cell_type": "markdown",
   "metadata": {},
   "source": [
    "**Calculadora de IMC**"
   ]
  },
  {
   "cell_type": "code",
   "execution_count": 1,
   "metadata": {},
   "outputs": [
    {
     "name": "stdout",
     "output_type": "stream",
     "text": [
      "Calcular el IMC de la primer persona\n",
      "Su IMC es: 24.221453287197235\n",
      "Tu peso es normal\n",
      "Calcular el IMC de la segunda persona\n",
      "Su IMC es: 24.221453287197235\n",
      "Tu peso es normal\n"
     ]
    }
   ],
   "source": [
    "'''\n",
    "IMC = peso / (altura * altura)\n",
    "IMC = peso / (altura**2)\n",
    "\n",
    "imc < 19 = delgadez\n",
    "20 < imc < 25 = normal\n",
    "26 < imc < 30 = sobrepeso\n",
    "imc > 30 = obesidad\n",
    "'''\n",
    "\n",
    "def imcCalculado(peso, altura):\n",
    "    imc = peso / altura**2\n",
    "    return imc\n",
    "\n",
    "def pedirIMC():\n",
    "\n",
    "    peso = float(input(\"Ingrese su peso en Kg\"))\n",
    "    altura = float(input(\"Ingrese su altura en M\"))\n",
    "\n",
    "    imc = imcCalculado(peso, altura)\n",
    "    print('Su IMC es: '+ str(imc))\n",
    "\n",
    "    if imc < 19:\n",
    "        print('Tienes delgadez')\n",
    "    if 19 <= imc <= 25:\n",
    "        print('Tu peso es normal')\n",
    "    if 25 < imc <= 30:\n",
    "        print('Tienes sobrepeso')\n",
    "    if imc > 30:\n",
    "        print('Tienes obesidad')\n",
    "\n",
    "print(\"Calcular el IMC de la primer persona\")\n",
    "pedirIMC()\n",
    "print(\"Calcular el IMC de la segunda persona\")\n",
    "pedirIMC()\n"
   ]
  }
 ],
 "metadata": {
  "kernelspec": {
   "display_name": "Python 3.8.6 32-bit",
   "language": "python",
   "name": "python3"
  },
  "language_info": {
   "codemirror_mode": {
    "name": "ipython",
    "version": 3
   },
   "file_extension": ".py",
   "mimetype": "text/x-python",
   "name": "python",
   "nbconvert_exporter": "python",
   "pygments_lexer": "ipython3",
   "version": "3.8.6"
  },
  "orig_nbformat": 4,
  "vscode": {
   "interpreter": {
    "hash": "2c645c58d4e56d108f6753aa7101c6c284bec34c65a6bf23f08e4ddfc10db486"
   }
  }
 },
 "nbformat": 4,
 "nbformat_minor": 2
}
