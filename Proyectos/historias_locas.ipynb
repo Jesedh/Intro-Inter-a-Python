{
 "cells": [
  {
   "cell_type": "markdown",
   "metadata": {},
   "source": [
    "# Historias locas\n",
    "\n",
    "Definir un algoritmo que genere **historias** locas, es decir, que pida un adjetivo, un verbo y un sustantivo. Posterioermente, que genere una concatenacion de variables(cadenas de texto) con un texto previamente definido."
   ]
  },
  {
   "cell_type": "code",
   "execution_count": 20,
   "metadata": {},
   "outputs": [
    {
     "name": "stdout",
     "output_type": "stream",
     "text": [
      "Mi nombre es Jesedh y mi apellido es Guerrero\n",
      "Mi nombre es Jesedh y mi apellido es Guerrero\n",
      "Mi nombre es Jesedh y mi apellido es Guerrero\n"
     ]
    }
   ],
   "source": [
    "# Formas de concatenacion de varables de cadenas de texto\n",
    "\n",
    "nombre = \"Jesedh\"\n",
    "apellido = \"Guerrero\"\n",
    "\n",
    "concat = \"Mi nombre es \" + nombre + \" y mi apellido es \" + apellido\n",
    "print(concat)\n",
    "\n",
    "concat1 = (\"Mi nombre es {} y mi apellido es {}\".format(nombre, apellido))\n",
    "print(concat1)\n",
    "\n",
    "concat2 = f\"Mi nombre es {nombre} y mi apellido es {apellido}\" # f-string\n",
    "print(concat2)"
   ]
  },
  {
   "cell_type": "code",
   "execution_count": 27,
   "metadata": {},
   "outputs": [
    {
     "name": "stdout",
     "output_type": "stream",
     "text": [
      "La historia loca es: Estudiar python es feo por que me gusta brincar con este lenguaje, ademas tengo una buena mesa\n"
     ]
    }
   ],
   "source": [
    "# Realizacion del proyecto Historias locas\n",
    "adjetivo = input(\"Ingrese un adjetivo: \")\n",
    "verbo = input(\"Ingrese un verbo: \")\n",
    "sustantivo = input(\"Ingrese un sustantivo: \")\n",
    "\n",
    "concatenacion = (f\"Estudiar python es {adjetivo} por que me gusta {verbo} con este lenguaje, ademas tengo una buena {sustantivo}\")\n",
    "\n",
    "print(\"La historia loca es: \" + concatenacion)"
   ]
  }
 ],
 "metadata": {
  "kernelspec": {
   "display_name": "Python 3.10.5 64-bit",
   "language": "python",
   "name": "python3"
  },
  "language_info": {
   "codemirror_mode": {
    "name": "ipython",
    "version": 3
   },
   "file_extension": ".py",
   "mimetype": "text/x-python",
   "name": "python",
   "nbconvert_exporter": "python",
   "pygments_lexer": "ipython3",
   "version": "3.10.5"
  },
  "orig_nbformat": 4,
  "vscode": {
   "interpreter": {
    "hash": "1371abc6f8baabf35c063e867118c8233582d921120941ee2812c2aa398e2fa1"
   }
  }
 },
 "nbformat": 4,
 "nbformat_minor": 2
}
